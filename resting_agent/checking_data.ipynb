{
 "cells": [
  {
   "cell_type": "code",
   "execution_count": 1,
   "metadata": {},
   "outputs": [],
   "source": [
    "import pandas as pd"
   ]
  },
  {
   "cell_type": "code",
   "execution_count": 5,
   "metadata": {},
   "outputs": [],
   "source": [
    "df1 = pd.read_csv('D://code//data//data_service_agent//20180317_N_TRIP.txt', encoding='utf-8', low_memory=False, sep=',')"
   ]
  },
  {
   "cell_type": "code",
   "execution_count": 18,
   "metadata": {
    "scrolled": true
   },
   "outputs": [
    {
     "data": {
      "text/plain": [
       "Index(['BMS_TX_BATCH', 'DIRECTION_ID', 'ENTRY_TIME', 'EXIT_TIME', 'STOP',\n",
       "       'STOP_DURATION', 'VEHICLE_ID', 'IDENTITY_ID', 'Gender',\n",
       "       'MVDIS_CATEGORY', 'VEHICLE_AGE', 'VEHICLE_BRAND', 'Holiday_cnt',\n",
       "       'WEEKDAY_CNT', 'TX_cnt', 'T_MILEAGE', 'O_CITY', 'O_TIME', 'O_MILEAGE',\n",
       "       'D_CITY', 'D_TIME', 'D_MILEAGE', 'TRIP_DURATION', 'TRIP_DISTANCE'],\n",
       "      dtype='object')"
      ]
     },
     "execution_count": 18,
     "metadata": {},
     "output_type": "execute_result"
    }
   ],
   "source": [
    "df2.columns"
   ]
  },
  {
   "cell_type": "code",
   "execution_count": 2,
   "metadata": {},
   "outputs": [],
   "source": [
    "df2 = pd.read_csv('D://code//data//data_service_agent//TRIP_utf8.txt', encoding='utf-8', low_memory=False, sep='\\t')"
   ]
  },
  {
   "cell_type": "code",
   "execution_count": 26,
   "metadata": {},
   "outputs": [
    {
     "name": "stdout",
     "output_type": "stream",
     "text": [
      "納智捷\n",
      "納智捷\n"
     ]
    }
   ],
   "source": [
    "for index in df2[df2['VEHICLE_ID'] == '9040096'].iterrows():\n",
    "    print(index[1]['VEHICLE_BRAND'])"
   ]
  },
  {
   "cell_type": "code",
   "execution_count": null,
   "metadata": {},
   "outputs": [],
   "source": [
    "# tmp_list.index(index[1]['VEHICLE_BRAND'])\n",
    "for row_tuple in df2.iterrows():\n",
    "        tmp_list = list(row_tuple[1])\n",
    "        \n",
    "        #detering which car brand it belongs to\n",
    "        #print (tmp_list[11] )"
   ]
  },
  {
   "cell_type": "code",
   "execution_count": 24,
   "metadata": {
    "scrolled": true
   },
   "outputs": [
    {
     "name": "stdout",
     "output_type": "stream",
     "text": [
      "11\n",
      "11\n"
     ]
    }
   ],
   "source": [
    "for i in df2[df2['VEHICLE_ID'] == '9040096'].iterrows() :\n",
    "        list_i = list(i[1])\n",
    "        print(list_i.index(index[1]['VEHICLE_BRAND']))"
   ]
  },
  {
   "cell_type": "code",
   "execution_count": 14,
   "metadata": {},
   "outputs": [],
   "source": [
    "list_ = []\n",
    "for i in df2[df2['VEHICLE_ID'] == '9040096'].iterrows() :\n",
    "        list_i = list(i[1])\n",
    "        list_i.append('Henry Civill')\n",
    "        list_.append(list_i)\n",
    "        #print (i)"
   ]
  },
  {
   "cell_type": "code",
   "execution_count": 28,
   "metadata": {
    "scrolled": true
   },
   "outputs": [],
   "source": [
    "#list_"
   ]
  },
  {
   "cell_type": "code",
   "execution_count": null,
   "metadata": {},
   "outputs": [],
   "source": []
  }
 ],
 "metadata": {
  "kernelspec": {
   "display_name": "Python 3",
   "language": "python",
   "name": "python3"
  },
  "language_info": {
   "codemirror_mode": {
    "name": "ipython",
    "version": 3
   },
   "file_extension": ".py",
   "mimetype": "text/x-python",
   "name": "python",
   "nbconvert_exporter": "python",
   "pygments_lexer": "ipython3",
   "version": "3.6.4"
  }
 },
 "nbformat": 4,
 "nbformat_minor": 2
}
