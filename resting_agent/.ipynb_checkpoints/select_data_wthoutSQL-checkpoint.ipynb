{
 "cells": [
  {
   "cell_type": "code",
   "execution_count": 1,
   "metadata": {},
   "outputs": [],
   "source": [
    "import pandas as pd\n",
    "from datetime import datetime"
   ]
  },
  {
   "cell_type": "code",
   "execution_count": 2,
   "metadata": {},
   "outputs": [],
   "source": [
    "df = pd.read_csv('D://code//data//data_service_agent//TRIP_with_FinalBrand.csv', low_memory=False)"
   ]
  },
  {
   "cell_type": "code",
   "execution_count": 26,
   "metadata": {},
   "outputs": [],
   "source": [
    "df.to_csv('D://code//data//data_service_agent//TRIP_with_FinalBrand.csv', encoding='utf-8')"
   ]
  },
  {
   "cell_type": "code",
   "execution_count": 109,
   "metadata": {},
   "outputs": [],
   "source": [
    "#df"
   ]
  },
  {
   "cell_type": "code",
   "execution_count": 32,
   "metadata": {},
   "outputs": [
    {
     "data": {
      "text/plain": [
       "(626757, 25)"
      ]
     },
     "execution_count": 32,
     "metadata": {},
     "output_type": "execute_result"
    }
   ],
   "source": [
    "df.shape"
   ]
  },
  {
   "cell_type": "code",
   "execution_count": 4,
   "metadata": {},
   "outputs": [],
   "source": [
    "df = df.drop(['Unnamed: 0'], axis=1)"
   ]
  },
  {
   "cell_type": "code",
   "execution_count": 5,
   "metadata": {},
   "outputs": [
    {
     "data": {
      "text/plain": [
       "Index(['BMS_TX_BATCH', 'DIRECTION_ID', 'ENTRY_TIME', 'EXIT_TIME', 'STOP',\n",
       "       'STOP_DURATION', 'VEHICLE_ID', 'IDENTITY_ID', 'Gender',\n",
       "       'MVDIS_CATEGORY', 'VEHICLE_AGE', 'VEHICLE_BRAND', 'Holiday_cnt',\n",
       "       'WEEKDAY_CNT', 'TX_cnt', 'T_MILEAGE', 'O_CITY', 'O_TIME', 'O_MILEAGE',\n",
       "       'D_CITY', 'D_TIME', 'D_MILEAGE', 'TRIP_DURATION', 'TRIP_DISTANCE',\n",
       "       'final_brand'],\n",
       "      dtype='object')"
      ]
     },
     "execution_count": 5,
     "metadata": {},
     "output_type": "execute_result"
    }
   ],
   "source": [
    "df.columns"
   ]
  },
  {
   "cell_type": "code",
   "execution_count": 13,
   "metadata": {},
   "outputs": [
    {
     "name": "stdout",
     "output_type": "stream",
     "text": [
      "165 ms ± 1.59 ms per loop (mean ± std. dev. of 7 runs, 10 loops each)\n"
     ]
    }
   ],
   "source": [
    "%timeit pd.to_datetime(s,infer_datetime_format=True)"
   ]
  },
  {
   "cell_type": "markdown",
   "metadata": {},
   "source": [
    "#### adjusting datatype in time field"
   ]
  },
  {
   "cell_type": "code",
   "execution_count": 7,
   "metadata": {
    "scrolled": true
   },
   "outputs": [],
   "source": [
    "df['ENTRY_TIME'] = pd.to_datetime(df['ENTRY_TIME'],infer_datetime_format=True)"
   ]
  },
  {
   "cell_type": "code",
   "execution_count": 8,
   "metadata": {
    "scrolled": true
   },
   "outputs": [],
   "source": [
    "df['EXIT_TIME'] = pd.to_datetime(df['EXIT_TIME'],infer_datetime_format=True)"
   ]
  },
  {
   "cell_type": "code",
   "execution_count": 9,
   "metadata": {
    "scrolled": true
   },
   "outputs": [],
   "source": [
    "df['O_TIME'] = pd.to_datetime(df['O_TIME'],infer_datetime_format=True)"
   ]
  },
  {
   "cell_type": "code",
   "execution_count": 10,
   "metadata": {},
   "outputs": [],
   "source": [
    "df['D_TIME'] = pd.to_datetime(df['D_TIME'],infer_datetime_format=True)"
   ]
  },
  {
   "cell_type": "markdown",
   "metadata": {},
   "source": [
    "#### start selecting !!"
   ]
  },
  {
   "cell_type": "code",
   "execution_count": 49,
   "metadata": {
    "scrolled": false
   },
   "outputs": [
    {
     "data": {
      "text/plain": [
       "(12863, 25)"
      ]
     },
     "execution_count": 49,
     "metadata": {},
     "output_type": "execute_result"
    }
   ],
   "source": [
    "#進入服務區(STOP = P)的每日平均車輛數(count)\n",
    "\n",
    "df[(df.O_TIME.dt.day == 18) & (df.STOP == 'P') & (df.MVDIS_CATEGORY == 31)].shape"
   ]
  },
  {
   "cell_type": "code",
   "execution_count": 52,
   "metadata": {},
   "outputs": [
    {
     "data": {
      "text/plain": [
       "(80829, 25)"
      ]
     },
     "execution_count": 52,
     "metadata": {},
     "output_type": "execute_result"
    }
   ],
   "source": [
    "df[ (df.STOP == 'P')].shape"
   ]
  },
  {
   "cell_type": "code",
   "execution_count": 278,
   "metadata": {
    "scrolled": true
   },
   "outputs": [
    {
     "name": "stdout",
     "output_type": "stream",
     "text": [
      "26.26457399103139\n",
      "27.083333333333332\n",
      "24.069651741293534\n",
      "23.64819479429051\n",
      "26.357210179076343\n",
      "24.90566037735849\n",
      "23.84967320261438\n"
     ]
    }
   ],
   "source": [
    "#進入服務區(STOP = P)的每日平均停留時間(STOP_DURATION)\n",
    "for day in days :\n",
    "    print (df[(df.O_TIME.dt.day == day) & (df.STOP == 'P') & (df.MVDIS_CATEGORY.isin([42, 5]))]['STOP_DURATION'].mean())"
   ]
  },
  {
   "cell_type": "code",
   "execution_count": 60,
   "metadata": {},
   "outputs": [
    {
     "data": {
      "text/plain": [
       "(224, 25)"
      ]
     },
     "execution_count": 60,
     "metadata": {},
     "output_type": "execute_result"
    }
   ],
   "source": [
    "#服務區的熱門時段\n",
    "\n",
    "df[(df.ENTRY_TIME.dt.day == 12) & (df.STOP == 'P') & (df.MVDIS_CATEGORY == 31) & (df.O_TIME.dt.hour == 00)].shape"
   ]
  },
  {
   "cell_type": "code",
   "execution_count": 258,
   "metadata": {
    "scrolled": true
   },
   "outputs": [
    {
     "data": {
      "text/plain": [
       "pandas.core.frame.DataFrame"
      ]
     },
     "execution_count": 258,
     "metadata": {},
     "output_type": "execute_result"
    }
   ],
   "source": [
    "df[(df.O_TIME.dt.hour == 1) & (df.STOP == 'P')].shape"
   ]
  },
  {
   "cell_type": "code",
   "execution_count": 304,
   "metadata": {},
   "outputs": [],
   "source": [
    "#平日 未/進入服務區車輛的旅次 ########要分南北站########\n",
    "total = pd.DataFrame(df[(df.STOP == 'P') & (df.DIRECTION_ID == 'S') & (df.ENTRY_TIME.dt.day.isin([12, 13, 14, 15, 16]) )].groupby(['O_CITY', 'D_CITY']).size()).sort_values(0, ascending=False)"
   ]
  },
  {
   "cell_type": "code",
   "execution_count": 313,
   "metadata": {},
   "outputs": [],
   "source": [
    "#假日 未/進入服務區車輛的旅次 ########要分南北站########\n",
    "total = pd.DataFrame(df[(df.STOP == 'P') & (df.DIRECTION_ID == 'S') & (df.ENTRY_TIME.dt.day.isin([17, 18]))].groupby(['O_CITY', 'D_CITY']).size()).sort_values(0, ascending=False)"
   ]
  },
  {
   "cell_type": "code",
   "execution_count": 283,
   "metadata": {},
   "outputs": [],
   "source": [
    "#未進入服務區車輛的旅次 ########要分南北站########\n",
    "total = pd.DataFrame(df[(df.STOP == 'T') & (df.DIRECTION_ID == 'S')].groupby(['O_CITY', 'D_CITY']).size()).sort_values(0, ascending=False)"
   ]
  },
  {
   "cell_type": "code",
   "execution_count": 183,
   "metadata": {
    "scrolled": true
   },
   "outputs": [],
   "source": [
    "#進入服務區車輛的旅次 ########要分南北站########\n",
    "total = pd.DataFrame(df[(df.STOP == 'P') & (df.DIRECTION_ID == 'N')].groupby(['O_CITY', 'D_CITY']).size()).sort_values(0, ascending=False)"
   ]
  },
  {
   "cell_type": "code",
   "execution_count": null,
   "metadata": {},
   "outputs": [],
   "source": []
  },
  {
   "cell_type": "code",
   "execution_count": 395,
   "metadata": {
    "scrolled": true
   },
   "outputs": [
    {
     "name": "stdout",
     "output_type": "stream",
     "text": [
      "<class 'str'> 15630\n"
     ]
    }
   ],
   "source": [
    "## try getting out the top city in grouping dataframe\n",
    "\n",
    "test = pd.DataFrame(df[(df.STOP == 'P') & (df.DIRECTION_ID == 'N')].groupby(['O_CITY']).size()).sort_values(0, ascending=False)\n",
    "vv = [x[0] for x in test.iterrows()][0]\n",
    "yy = [x[1][0] for x in test.iterrows()][0]\n",
    "print(type(vv), yy)\n",
    "#for i in test.iterrows()  :\n",
    "#    print(list(i[1])[0])"
   ]
  },
  {
   "cell_type": "code",
   "execution_count": 110,
   "metadata": {
    "scrolled": true
   },
   "outputs": [],
   "source": [
    "#total"
   ]
  },
  {
   "cell_type": "code",
   "execution_count": 343,
   "metadata": {
    "scrolled": true
   },
   "outputs": [
    {
     "data": {
      "text/plain": [
       "18731"
      ]
     },
     "execution_count": 343,
     "metadata": {},
     "output_type": "execute_result"
    }
   ],
   "source": [
    "O_CITY[0].sum()"
   ]
  },
  {
   "cell_type": "code",
   "execution_count": 342,
   "metadata": {},
   "outputs": [],
   "source": [
    "O_CITY = pd.DataFrame(df[(df.STOP == 'P') & (df.DIRECTION_ID == 'S')&(df.ENTRY_TIME.dt.day.isin([17, 18]))].groupby('O_CITY').size()).sort_values(0, ascending=False)"
   ]
  },
  {
   "cell_type": "code",
   "execution_count": 339,
   "metadata": {},
   "outputs": [],
   "source": [
    "O_CITY = pd.DataFrame(df[(df.STOP == 'P') & (df.DIRECTION_ID == 'N')&(df.ENTRY_TIME.dt.day.isin([12, 13, 14, 15, 16]) )].groupby('O_CITY').size()).sort_values(0, ascending=False)"
   ]
  },
  {
   "cell_type": "code",
   "execution_count": 291,
   "metadata": {},
   "outputs": [],
   "source": [
    "O_CITY = pd.DataFrame(df[(df.STOP == 'T') & (df.DIRECTION_ID == 'S')].groupby('O_CITY').size()).sort_values(0, ascending=False)"
   ]
  },
  {
   "cell_type": "code",
   "execution_count": null,
   "metadata": {},
   "outputs": [],
   "source": [
    "D_CITY = pd.DataFrame(df[(df.STOP == 'T') & (df.DIRECTION_ID == 'N')&(df.ENTRY_TIME.dt.day.isin([17, 18]))].groupby('D_CITY').size()).sort_values(0, ascending=False)"
   ]
  },
  {
   "cell_type": "code",
   "execution_count": null,
   "metadata": {},
   "outputs": [],
   "source": [
    "D_CITY = pd.DataFrame(df[(df.STOP == 'T') & (df.DIRECTION_ID == 'N')&(df.ENTRY_TIME.dt.day.isin([12, 13, 14, 15, 16]) )].groupby('D_CITY').size()).sort_values(0, ascending=False)"
   ]
  },
  {
   "cell_type": "code",
   "execution_count": 341,
   "metadata": {},
   "outputs": [],
   "source": [
    "direct = ['N', 'S']\n",
    "ino = ['T', 'P']\n",
    "ino_n = ['non', 'in']\n",
    "weekday = [12, 13, 14, 15, 16]\n",
    "weekend = [17, 18]\n",
    "week = [weekday, weekend]\n",
    "we_dir = ['wd', 'wk']\n",
    "\n",
    "\n",
    "for index, we in enumerate(week) :\n",
    "    \n",
    "    for index_i, i in enumerate(ino) :\n",
    "        for d in direct :\n",
    "            D_CITY = pd.DataFrame(df[(df.STOP == i) & (df.DIRECTION_ID == d)&(df.ENTRY_TIME.dt.day.isin(we) )].groupby('D_CITY').size()).sort_values(0, ascending=False)\n",
    "            D_CITY.to_csv('D://code//data//data_service_agent//result_set//{0}SA_{1}_{2}_travel_D.csv'.format(ino_n[index_i], d, we_dir[index]), encoding='big5')\n"
   ]
  },
  {
   "cell_type": "code",
   "execution_count": 290,
   "metadata": {},
   "outputs": [],
   "source": [
    "D_CITY = pd.DataFrame(df[(df.STOP == 'T') & (df.DIRECTION_ID == 'N')].groupby('D_CITY').size()).sort_values(0, ascending=False)"
   ]
  },
  {
   "cell_type": "code",
   "execution_count": 344,
   "metadata": {},
   "outputs": [],
   "source": [
    "O_CITY.to_csv('D://code//data//data_service_agent//result_set//inSA_S_wk_travel_O.csv', encoding='big5')"
   ]
  },
  {
   "cell_type": "code",
   "execution_count": 323,
   "metadata": {},
   "outputs": [
    {
     "data": {
      "text/html": [
       "<div>\n",
       "<style scoped>\n",
       "    .dataframe tbody tr th:only-of-type {\n",
       "        vertical-align: middle;\n",
       "    }\n",
       "\n",
       "    .dataframe tbody tr th {\n",
       "        vertical-align: top;\n",
       "    }\n",
       "\n",
       "    .dataframe thead th {\n",
       "        text-align: right;\n",
       "    }\n",
       "</style>\n",
       "<table border=\"1\" class=\"dataframe\">\n",
       "  <thead>\n",
       "    <tr style=\"text-align: right;\">\n",
       "      <th></th>\n",
       "      <th>0</th>\n",
       "    </tr>\n",
       "    <tr>\n",
       "      <th>Gender</th>\n",
       "      <th></th>\n",
       "    </tr>\n",
       "  </thead>\n",
       "  <tbody>\n",
       "    <tr>\n",
       "      <th>女</th>\n",
       "      <td>14772</td>\n",
       "    </tr>\n",
       "    <tr>\n",
       "      <th>男</th>\n",
       "      <td>15993</td>\n",
       "    </tr>\n",
       "    <tr>\n",
       "      <th>非自然人</th>\n",
       "      <td>17628</td>\n",
       "    </tr>\n",
       "  </tbody>\n",
       "</table>\n",
       "</div>"
      ],
      "text/plain": [
       "            0\n",
       "Gender       \n",
       "女       14772\n",
       "男       15993\n",
       "非自然人    17628"
      ]
     },
     "execution_count": 323,
     "metadata": {},
     "output_type": "execute_result"
    }
   ],
   "source": [
    "#進入服務區車輛的Gender\n",
    "pd.DataFrame(df[(df.STOP == 'P')&(df.ENTRY_TIME.dt.day.isin([12, 13, 14, 15, 16]))].groupby('Gender').size())"
   ]
  },
  {
   "cell_type": "code",
   "execution_count": 322,
   "metadata": {
    "scrolled": true
   },
   "outputs": [
    {
     "name": "stdout",
     "output_type": "stream",
     "text": [
      "Gender\n",
      "女       12436\n",
      "男       12820\n",
      "非自然人     5714\n",
      "dtype: int64\n",
      "Gender\n",
      "女       2336\n",
      "男       3169\n",
      "非自然人    4863\n",
      "dtype: int64\n",
      "Gender\n",
      "非自然人    1673\n",
      "dtype: int64\n",
      "Gender\n",
      "男          4\n",
      "非自然人    3511\n",
      "dtype: int64\n",
      "Gender\n",
      "非自然人    1867\n",
      "dtype: int64\n"
     ]
    }
   ],
   "source": [
    "print(df[(df.STOP == 'P') & (df.MVDIS_CATEGORY == 31)&(df.ENTRY_TIME.dt.day.isin([12, 13, 14, 15, 16]))].groupby('Gender').size())\n",
    "print(df[(df.STOP == 'P') & (df.MVDIS_CATEGORY == 32)&(df.ENTRY_TIME.dt.day.isin([12, 13, 14, 15, 16]))].groupby('Gender').size())\n",
    "print(df[(df.STOP == 'P') & (df.MVDIS_CATEGORY == 41)&(df.ENTRY_TIME.dt.day.isin([12, 13, 14, 15, 16]))].groupby('Gender').size())\n",
    "print(df[(df.STOP == 'P') & (df.MVDIS_CATEGORY == 42)&(df.ENTRY_TIME.dt.day.isin([12, 13, 14, 15, 16]))].groupby('Gender').size())\n",
    "print(df[(df.STOP == 'P') & (df.MVDIS_CATEGORY == 5)&(df.ENTRY_TIME.dt.day.isin([12, 13, 14, 15, 16]))].groupby('Gender').size())"
   ]
  },
  {
   "cell_type": "code",
   "execution_count": 111,
   "metadata": {
    "scrolled": true
   },
   "outputs": [],
   "source": [
    "#進入服務區車輛的Brand\n",
    "# pd.DataFrame(df[(df.STOP == 'P')].groupby('final_brand').size()).sort_values(0, ascending=False)"
   ]
  },
  {
   "cell_type": "code",
   "execution_count": 11,
   "metadata": {},
   "outputs": [],
   "source": [
    "# for specific day 14 & 17\n",
    "\n",
    "direct = ['N', 'S']\n",
    "ino = ['T', 'P']\n",
    "ino_n = ['non', 'in']\n",
    "weekday = [12, 13, 14, 15, 16]\n",
    "weekend = [17, 18]\n",
    "week = [weekday, weekend]\n",
    "we_dir = ['wd', 'wk']\n",
    "small_car = [31, 32]\n",
    "big_car = [42, 5]\n",
    "big_41 = [41]\n",
    "n_cats = [small_car, big_41, big_car]\n",
    "specific_d = [14, 17]\n",
    "\n",
    "for day in specific_d :\n",
    "    \n",
    "    for index_i, i in enumerate(ino) :\n",
    "        for d in direct :\n",
    "            for n_cat in n_cats :\n",
    "                \n",
    "                brandy = pd.DataFrame(df[(df.STOP == i) & (df.DIRECTION_ID == d)&(df.ENTRY_TIME.dt.day == day )&(df.MVDIS_CATEGORY.isin(n_cat))].groupby('final_brand').size()).sort_values(0, ascending=False)\n",
    "                brandy.to_csv('D://code//data//data_service_agent//result_set//brand_carType//{0}SA_{1}_{2}_{3}_brand.csv'.format(ino_n[index_i], d, day, n_cat), encoding='big5')\n"
   ]
  },
  {
   "cell_type": "code",
   "execution_count": null,
   "metadata": {},
   "outputs": [],
   "source": [
    "# divided by car type\n",
    "\n",
    "direct = ['N', 'S']\n",
    "ino = ['T', 'P']\n",
    "ino_n = ['non', 'in']\n",
    "weekday = [12, 13, 14, 15, 16]\n",
    "weekend = [17, 18]\n",
    "week = [weekday, weekend]\n",
    "we_dir = ['wd', 'wk']\n",
    "small_car = [31, 32]\n",
    "big_car = [42, 5]\n",
    "big_41 = [41]\n",
    "n_cats = [small_car, big_41, big_car]\n",
    "\n",
    "for index, we in enumerate(week) :\n",
    "    \n",
    "    for index_i, i in enumerate(ino) :\n",
    "        for d in direct :\n",
    "            for n_cat in n_cats :\n",
    "                \n",
    "                brandy = pd.DataFrame(df[(df.STOP == i) & (df.DIRECTION_ID == d)&(df.ENTRY_TIME.dt.day.isin(we) )&(df.MVDIS_CATEGORY.isin(n_cat))].groupby('final_brand').size()).sort_values(0, ascending=False)\n",
    "                brandy.to_csv('D://code//data//data_service_agent//result_set//brand_carType//{0}SA_{1}_{2}_{3}_brand.csv'.format(ino_n[index_i], d, we_dir[index], n_cat), encoding='big5')\n"
   ]
  },
  {
   "cell_type": "code",
   "execution_count": 345,
   "metadata": {},
   "outputs": [],
   "source": [
    "# \n",
    "\n",
    "direct = ['N', 'S']\n",
    "ino = ['T', 'P']\n",
    "ino_n = ['non', 'in']\n",
    "weekday = [12, 13, 14, 15, 16]\n",
    "weekend = [17, 18]\n",
    "week = [weekday, weekend]\n",
    "we_dir = ['wd', 'wk']\n",
    "\n",
    "\n",
    "for index, we in enumerate(week) :\n",
    "    \n",
    "    for index_i, i in enumerate(ino) :\n",
    "        for d in direct :\n",
    "                        \n",
    "            brandy = pd.DataFrame(df[(df.STOP == i) & (df.DIRECTION_ID == d)&(df.ENTRY_TIME.dt.day.isin(we)& (df.MVDIS_CATEGORY == 32) )].groupby('final_brand').size()).sort_values(0, ascending=False)\n",
    "            brandy.to_csv('D://code//data//data_service_agent//result_set//{0}SA_{1}_{2}_brand.csv'.format(ino_n[index_i], d, we_dir[index]), encoding='big5')\n"
   ]
  },
  {
   "cell_type": "code",
   "execution_count": 154,
   "metadata": {},
   "outputs": [],
   "source": [
    "brand_c32 = pd.DataFrame(df[(df.STOP == 'P') & (df.MVDIS_CATEGORY == 32)].groupby('final_brand').size()).sort_values(0, ascending=False)\n",
    "brand_c32.to_csv('D://code//data//data_service_agent//result_set//inSA_brand_32.csv', encoding='big5')"
   ]
  },
  {
   "cell_type": "code",
   "execution_count": 160,
   "metadata": {},
   "outputs": [
    {
     "data": {
      "text/plain": [
       "392.07375949932947"
      ]
     },
     "execution_count": 160,
     "metadata": {},
     "output_type": "execute_result"
    }
   ],
   "source": [
    "#進入服務區車輛的age\n",
    "pd.DataFrame(df[(df.STOP == 'P') & (df.MVDIS_CATEGORY == 5)])['VEHICLE_AGE'].mean()"
   ]
  },
  {
   "cell_type": "code",
   "execution_count": 166,
   "metadata": {},
   "outputs": [
    {
     "data": {
      "text/plain": [
       "3.199210679335387"
      ]
     },
     "execution_count": 166,
     "metadata": {},
     "output_type": "execute_result"
    }
   ],
   "source": [
    "#進入服務區車輛的 === Y2018三月行駛國道的平日天數\n",
    "#pd.DataFrame(df[(df.STOP == 'P') & (df.MVDIS_CATEGORY == 5)])['VEHICLE_AGE'].mean()\n",
    "\n",
    "pd.DataFrame(df[(df.STOP == 'P')&(df.MVDIS_CATEGORY == 5)])['Holiday_cnt'].mean()"
   ]
  },
  {
   "cell_type": "code",
   "execution_count": 12,
   "metadata": {},
   "outputs": [
    {
     "name": "stdout",
     "output_type": "stream",
     "text": [
      "[31, 32]  :  WEEKDAY_CNT  =  8.255074528868587\n",
      "[31, 32]  :  Holiday_cnt  =  3.0399955296648646\n",
      "[41]  :  WEEKDAY_CNT  =  16.141512495942877\n",
      "[41]  :  Holiday_cnt  =  6.692632262252515\n",
      "[42, 5]  :  WEEKDAY_CNT  =  19.209083536090834\n",
      "[42, 5]  :  Holiday_cnt  =  3.3020275750202757\n"
     ]
    }
   ],
   "source": [
    "# WEEKDAY_CNT, Holiday_cnt\n",
    "wk_wd = ['WEEKDAY_CNT', 'Holiday_cnt']\n",
    "small_car = [31, 32]\n",
    "big_car = [42, 5]\n",
    "big_41 = [41]\n",
    "n_cats = [small_car, big_41, big_car]\n",
    "\n",
    "for n_cat in n_cats:\n",
    "    for w in wk_wd :\n",
    "        \n",
    "        var = df[(df.STOP == 'P') & (df.MVDIS_CATEGORY.isin(n_cat))][w].mean()\n",
    "        print (n_cat, ' : ', w, ' = ', var)"
   ]
  },
  {
   "cell_type": "code",
   "execution_count": 165,
   "metadata": {
    "scrolled": true
   },
   "outputs": [
    {
     "name": "stdout",
     "output_type": "stream",
     "text": [
      "31 3.1390431822254077\n",
      "32 2.6895327458314844\n",
      "41 6.692632262252515\n",
      "42 2.4823590007725986\n",
      "5 4.6967572304995615\n"
     ]
    }
   ],
   "source": [
    "for category in categories:\n",
    "    var = df[(df.STOP == 'P') & (df.MVDIS_CATEGORY == category)]['Holiday_cnt'].mean()\n",
    "    print(category, var)"
   ]
  },
  {
   "cell_type": "code",
   "execution_count": 22,
   "metadata": {
    "scrolled": true
   },
   "outputs": [
    {
     "name": "stdout",
     "output_type": "stream",
     "text": [
      "[31, 32]  :  WEEKDAY_CNT  =  9.354930722161875\n",
      "[31, 32]  :  Holiday_cnt  =  3.1590616037448327\n",
      "[41]  :  WEEKDAY_CNT  =  17.41472215540053\n",
      "[41]  :  Holiday_cnt  =  7.011426509502045\n",
      "[42, 5]  :  WEEKDAY_CNT  =  19.88477646319757\n",
      "[42, 5]  :  Holiday_cnt  =  3.4926709245105223\n"
     ]
    }
   ],
   "source": [
    "# 曾經進入過泰安服務區的平均次數\n",
    "\n",
    "wk_wd = ['WEEKDAY_CNT', 'Holiday_cnt']\n",
    "small_car = [31, 32]\n",
    "big_car = [42, 5]\n",
    "big_41 = [41]\n",
    "n_cats = [small_car, big_41, big_car]\n",
    "\n",
    "for n_cat in n_cats:\n",
    "    for w in wk_wd :\n",
    "        \n",
    "        var = df[(df.VEHICLE_ID.isin(df[df.STOP == 'P']['VEHICLE_ID'].unique()))&(df.MVDIS_CATEGORY.isin(n_cat))][w].mean()\n",
    "        print (n_cat, ' : ', w, ' = ', var)\n",
    "#df[(df.VEHICLE_ID.isin(df[df.STOP == 'P']['VEHICLE_ID'].unique()))]['Holiday_cnt'].mean()"
   ]
  },
  {
   "cell_type": "code",
   "execution_count": 49,
   "metadata": {},
   "outputs": [
    {
     "data": {
      "text/plain": [
       "7981495.097052095"
      ]
     },
     "execution_count": 49,
     "metadata": {},
     "output_type": "execute_result"
    }
   ],
   "source": [
    "#df[(df[df.STOP == 'P']['VEHICLE_ID'].unique())]\n",
    "#df[(df.VEHICLE_ID.isin(df[df.STOP == 'P']['VEHICLE_ID'].unique()))].index.values\n",
    "(df[df.STOP == 'P']['VEHICLE_ID'].unique())"
   ]
  },
  {
   "cell_type": "code",
   "execution_count": 42,
   "metadata": {
    "scrolled": true
   },
   "outputs": [
    {
     "data": {
      "text/plain": [
       "9"
      ]
     },
     "execution_count": 42,
     "metadata": {},
     "output_type": "execute_result"
    }
   ],
   "source": [
    "list(df[df.VEHICLE_ID == 1358136]['WEEKDAY_CNT'].head(1))[0]"
   ]
  },
  {
   "cell_type": "code",
   "execution_count": 59,
   "metadata": {},
   "outputs": [
    {
     "data": {
      "text/plain": [
       "32"
      ]
     },
     "execution_count": 59,
     "metadata": {},
     "output_type": "execute_result"
    }
   ],
   "source": [
    " list(df[(df.VEHICLE_ID == 1358136) ]['MVDIS_CATEGORY'].head(1))[0]"
   ]
  },
  {
   "cell_type": "code",
   "execution_count": 69,
   "metadata": {
    "scrolled": false
   },
   "outputs": [
    {
     "name": "stdout",
     "output_type": "stream",
     "text": [
      "s_li_wd =  8.05194037481427\n",
      "s_li_wk =  3.030371778690227\n",
      "m_li_wd =  16.15546218487395\n",
      "m_li_wk =  6.652941176470589\n",
      "L_li_wd =  18.681562881562883\n",
      "L_li_wk =  2.9289377289377287\n"
     ]
    }
   ],
   "source": [
    "#df[(df.VEHICLE_ID.isin(df[df.STOP == 'P']['VEHICLE_ID'].unique()))&(df.MVDIS_CATEGORY.isin(n_cat))][w].mean()\n",
    "\n",
    "#list(df[df.VEHICLE_ID.isin(df[df.STOP == 'P']['VEHICLE_ID'].unique())]['WEEKDAY_CNT'].head(1))[0]\n",
    "small_car = [31, 32]\n",
    "big_car = [42, 5]\n",
    "big_41 = [41]\n",
    "n_cats = [small_car, big_41, big_car]\n",
    "s_li_wd = []\n",
    "s_li_wk = []\n",
    "m_li_wd = []\n",
    "m_li_wk = []\n",
    "L_li_wd = []\n",
    "L_li_wk = []\n",
    "\n",
    "for i in (df[df.STOP == 'P']['VEHICLE_ID'].unique()) :\n",
    "    var_wd = list(df[df.VEHICLE_ID == i]['WEEKDAY_CNT'].head(1))[0]\n",
    "    var_wk = list(df[df.VEHICLE_ID == i]['Holiday_cnt'].head(1))[0]\n",
    "    \n",
    "    if  list(df[(df.VEHICLE_ID == i) ]['MVDIS_CATEGORY'].head(1))[0] in n_cats[0]:\n",
    "        s_li_wd.append(var_wd)\n",
    "        s_li_wk.append(var_wk)\n",
    "    elif list(df[(df.VEHICLE_ID == i) ]['MVDIS_CATEGORY'].head(1))[0] in n_cats[1]:\n",
    "        m_li_wd.append(var_wd)\n",
    "        m_li_wk.append(var_wk)\n",
    "    elif list(df[(df.VEHICLE_ID == i) ]['MVDIS_CATEGORY'].head(1))[0] in n_cats[2]:\n",
    "        L_li_wd.append(var_wd)\n",
    "        L_li_wk.append(var_wk)\n",
    "    #print (var)\n",
    "\n",
    "print ('s_li_wd = ', sum(s_li_wd)/len(s_li_wd))\n",
    "print ('s_li_wk = ', sum(s_li_wk)/len(s_li_wk))\n",
    "print ('m_li_wd = ', sum(m_li_wd)/len(m_li_wd))\n",
    "print ('m_li_wk = ', sum(m_li_wk)/len(m_li_wk))\n",
    "print ('L_li_wd = ', sum(L_li_wd)/len(L_li_wd))\n",
    "print ('L_li_wk = ', sum(L_li_wk)/len(L_li_wk))"
   ]
  },
  {
   "cell_type": "code",
   "execution_count": 15,
   "metadata": {},
   "outputs": [
    {
     "data": {
      "text/plain": [
       "69066"
      ]
     },
     "execution_count": 15,
     "metadata": {},
     "output_type": "execute_result"
    }
   ],
   "source": [
    "# 曾經進入過泰安服務區的平均次數\n",
    "\n",
    "#len(df[df.STOP == 'P']['VEHICLE_ID'].unique())\n",
    "\n",
    "wk_wd = ['WEEKDAY_CNT', 'Holiday_cnt']\n",
    "small_car = [31, 32]\n",
    "big_car = [42, 5]\n",
    "big_41 = [41]\n",
    "n_cats = [small_car, big_41, big_car]\n",
    "\n",
    "for n_cat in n_cats:\n",
    "    for w in wk_wd :\n",
    "        \n",
    "        var = df[(df.STOP == 'P') & (df.MVDIS_CATEGORY.isin(n_cat))][w].mean()\n",
    "        print (n_cat, ' : ', w, ' = ', var)\n"
   ]
  },
  {
   "cell_type": "code",
   "execution_count": 273,
   "metadata": {},
   "outputs": [],
   "source": [
    "#進服務區與沒進服務區佔主線比例 by 每日\n",
    "days = [12, 13, 14, 15, 16, 17, 18]\n",
    "hours = [0, 1, 2, 3, 4, 5, 6, 7, 8, 9, 10, 11, 12, 13, 14, 15, 16, 17, 18, 19, 20, 21, 22, 23]\n",
    "\n",
    "for day in days:\n",
    "    total_list = []\n",
    "    for hour in hours :\n",
    "        cnt_var = df[(df.ENTRY_TIME.dt.day == day)&(df.ENTRY_TIME.dt.hour == hour)].shape[0]\n",
    "        in_var = df[(df.STOP == 'P')&(df.ENTRY_TIME.dt.day == day)&(df.ENTRY_TIME.dt.hour == hour)].shape[0]\n",
    "        out_var = df[(df.STOP == 'T')&(df.ENTRY_TIME.dt.day == day)&(df.ENTRY_TIME.dt.hour == hour)].shape[0]\n",
    "        per_var = float((in_var/cnt_var)*100.0)\n",
    "        hr_list = [in_var, out_var, cnt_var, per_var]\n",
    "        total_list.append(hr_list)\n",
    "    result_dict[\"hour_countIO_df__{0}\".format(day)] = pd.DataFrame(total_list, index=hours, columns=['in', 'not_in', 'total', 'percentage'])              "
   ]
  },
  {
   "cell_type": "code",
   "execution_count": 275,
   "metadata": {},
   "outputs": [],
   "source": [
    "for day in days :\n",
    "    result_dict[\"hour_countIO_df__{0}\".format(day)].to_csv('D://code//data//data_service_agent//result_set//IO_percentage_day_{0}.csv'.format(day), na_rep='0')\n",
    "\n",
    "#result_dict['hour_count_df__12']"
   ]
  },
  {
   "cell_type": "code",
   "execution_count": 274,
   "metadata": {
    "scrolled": true
   },
   "outputs": [
    {
     "data": {
      "text/html": [
       "<div>\n",
       "<style scoped>\n",
       "    .dataframe tbody tr th:only-of-type {\n",
       "        vertical-align: middle;\n",
       "    }\n",
       "\n",
       "    .dataframe tbody tr th {\n",
       "        vertical-align: top;\n",
       "    }\n",
       "\n",
       "    .dataframe thead th {\n",
       "        text-align: right;\n",
       "    }\n",
       "</style>\n",
       "<table border=\"1\" class=\"dataframe\">\n",
       "  <thead>\n",
       "    <tr style=\"text-align: right;\">\n",
       "      <th></th>\n",
       "      <th>in</th>\n",
       "      <th>not_in</th>\n",
       "      <th>total</th>\n",
       "      <th>percentage</th>\n",
       "    </tr>\n",
       "  </thead>\n",
       "  <tbody>\n",
       "    <tr>\n",
       "      <th>0</th>\n",
       "      <td>181</td>\n",
       "      <td>1580</td>\n",
       "      <td>1761</td>\n",
       "      <td>10.278251</td>\n",
       "    </tr>\n",
       "    <tr>\n",
       "      <th>1</th>\n",
       "      <td>105</td>\n",
       "      <td>928</td>\n",
       "      <td>1033</td>\n",
       "      <td>10.164569</td>\n",
       "    </tr>\n",
       "    <tr>\n",
       "      <th>2</th>\n",
       "      <td>82</td>\n",
       "      <td>750</td>\n",
       "      <td>832</td>\n",
       "      <td>9.855769</td>\n",
       "    </tr>\n",
       "    <tr>\n",
       "      <th>3</th>\n",
       "      <td>73</td>\n",
       "      <td>673</td>\n",
       "      <td>746</td>\n",
       "      <td>9.785523</td>\n",
       "    </tr>\n",
       "    <tr>\n",
       "      <th>4</th>\n",
       "      <td>93</td>\n",
       "      <td>1014</td>\n",
       "      <td>1107</td>\n",
       "      <td>8.401084</td>\n",
       "    </tr>\n",
       "    <tr>\n",
       "      <th>5</th>\n",
       "      <td>114</td>\n",
       "      <td>1639</td>\n",
       "      <td>1753</td>\n",
       "      <td>6.503137</td>\n",
       "    </tr>\n",
       "    <tr>\n",
       "      <th>6</th>\n",
       "      <td>225</td>\n",
       "      <td>2953</td>\n",
       "      <td>3178</td>\n",
       "      <td>7.079924</td>\n",
       "    </tr>\n",
       "    <tr>\n",
       "      <th>7</th>\n",
       "      <td>427</td>\n",
       "      <td>4239</td>\n",
       "      <td>4666</td>\n",
       "      <td>9.151307</td>\n",
       "    </tr>\n",
       "    <tr>\n",
       "      <th>8</th>\n",
       "      <td>492</td>\n",
       "      <td>4242</td>\n",
       "      <td>4734</td>\n",
       "      <td>10.392902</td>\n",
       "    </tr>\n",
       "    <tr>\n",
       "      <th>9</th>\n",
       "      <td>575</td>\n",
       "      <td>4302</td>\n",
       "      <td>4877</td>\n",
       "      <td>11.790035</td>\n",
       "    </tr>\n",
       "    <tr>\n",
       "      <th>10</th>\n",
       "      <td>650</td>\n",
       "      <td>4442</td>\n",
       "      <td>5092</td>\n",
       "      <td>12.765122</td>\n",
       "    </tr>\n",
       "    <tr>\n",
       "      <th>11</th>\n",
       "      <td>670</td>\n",
       "      <td>4149</td>\n",
       "      <td>4819</td>\n",
       "      <td>13.903299</td>\n",
       "    </tr>\n",
       "    <tr>\n",
       "      <th>12</th>\n",
       "      <td>640</td>\n",
       "      <td>3837</td>\n",
       "      <td>4477</td>\n",
       "      <td>14.295287</td>\n",
       "    </tr>\n",
       "    <tr>\n",
       "      <th>13</th>\n",
       "      <td>546</td>\n",
       "      <td>3953</td>\n",
       "      <td>4499</td>\n",
       "      <td>12.136030</td>\n",
       "    </tr>\n",
       "    <tr>\n",
       "      <th>14</th>\n",
       "      <td>614</td>\n",
       "      <td>4108</td>\n",
       "      <td>4722</td>\n",
       "      <td>13.002965</td>\n",
       "    </tr>\n",
       "    <tr>\n",
       "      <th>15</th>\n",
       "      <td>631</td>\n",
       "      <td>4226</td>\n",
       "      <td>4857</td>\n",
       "      <td>12.991559</td>\n",
       "    </tr>\n",
       "    <tr>\n",
       "      <th>16</th>\n",
       "      <td>585</td>\n",
       "      <td>4303</td>\n",
       "      <td>4888</td>\n",
       "      <td>11.968085</td>\n",
       "    </tr>\n",
       "    <tr>\n",
       "      <th>17</th>\n",
       "      <td>509</td>\n",
       "      <td>4145</td>\n",
       "      <td>4654</td>\n",
       "      <td>10.936829</td>\n",
       "    </tr>\n",
       "    <tr>\n",
       "      <th>18</th>\n",
       "      <td>377</td>\n",
       "      <td>3391</td>\n",
       "      <td>3768</td>\n",
       "      <td>10.005308</td>\n",
       "    </tr>\n",
       "    <tr>\n",
       "      <th>19</th>\n",
       "      <td>340</td>\n",
       "      <td>2946</td>\n",
       "      <td>3286</td>\n",
       "      <td>10.346926</td>\n",
       "    </tr>\n",
       "    <tr>\n",
       "      <th>20</th>\n",
       "      <td>275</td>\n",
       "      <td>2828</td>\n",
       "      <td>3103</td>\n",
       "      <td>8.862391</td>\n",
       "    </tr>\n",
       "    <tr>\n",
       "      <th>21</th>\n",
       "      <td>248</td>\n",
       "      <td>2421</td>\n",
       "      <td>2669</td>\n",
       "      <td>9.291870</td>\n",
       "    </tr>\n",
       "    <tr>\n",
       "      <th>22</th>\n",
       "      <td>189</td>\n",
       "      <td>2081</td>\n",
       "      <td>2270</td>\n",
       "      <td>8.325991</td>\n",
       "    </tr>\n",
       "    <tr>\n",
       "      <th>23</th>\n",
       "      <td>104</td>\n",
       "      <td>1513</td>\n",
       "      <td>1617</td>\n",
       "      <td>6.431664</td>\n",
       "    </tr>\n",
       "  </tbody>\n",
       "</table>\n",
       "</div>"
      ],
      "text/plain": [
       "     in  not_in  total  percentage\n",
       "0   181    1580   1761   10.278251\n",
       "1   105     928   1033   10.164569\n",
       "2    82     750    832    9.855769\n",
       "3    73     673    746    9.785523\n",
       "4    93    1014   1107    8.401084\n",
       "5   114    1639   1753    6.503137\n",
       "6   225    2953   3178    7.079924\n",
       "7   427    4239   4666    9.151307\n",
       "8   492    4242   4734   10.392902\n",
       "9   575    4302   4877   11.790035\n",
       "10  650    4442   5092   12.765122\n",
       "11  670    4149   4819   13.903299\n",
       "12  640    3837   4477   14.295287\n",
       "13  546    3953   4499   12.136030\n",
       "14  614    4108   4722   13.002965\n",
       "15  631    4226   4857   12.991559\n",
       "16  585    4303   4888   11.968085\n",
       "17  509    4145   4654   10.936829\n",
       "18  377    3391   3768   10.005308\n",
       "19  340    2946   3286   10.346926\n",
       "20  275    2828   3103    8.862391\n",
       "21  248    2421   2669    9.291870\n",
       "22  189    2081   2270    8.325991\n",
       "23  104    1513   1617    6.431664"
      ]
     },
     "execution_count": 274,
     "metadata": {},
     "output_type": "execute_result"
    }
   ],
   "source": [
    "#result_dict[\"hour_countIO_df__{0}\".format(day)]\n",
    "result_dict[\"hour_countIO_df__12\"]"
   ]
  },
  {
   "cell_type": "code",
   "execution_count": 396,
   "metadata": {},
   "outputs": [],
   "source": [
    "# for only day 14 and hour 10\n",
    "categories = [31, 32, 41, 42, 5]\n",
    "small_car = [31, 32]\n",
    "big_car = [42, 5]\n",
    "big_41 = [41]\n",
    "n_cats = [small_car, big_41, big_car]\n",
    "directions = ['N', 'S']\n",
    "#(df.MVDIS_CATEGORY == 5)\n",
    "# pd.DataFrame(df[(df.STOP == 'P') & (df.DIRECTION_ID == 'N')].groupby(['O_CITY']).size()).sort_values(0, ascending=False)\n",
    "#vv = [x[0] for x in test.iterrows()][0]\n",
    "#yy = [x[1][0] for x in test.iterrows()][0]\n",
    "sum_list = []\n",
    "index_list = []\n",
    "\n",
    "for n_cat in n_cats :\n",
    "    \n",
    "    for dire in directions :\n",
    "        #cnt_var = df[(df.ENTRY_TIME.dt.day == 14)&(df.ENTRY_TIME.dt.hour == 10)].shape[0]\n",
    "        #in_var = df[(df.STOP == 'P')&(df.ENTRY_TIME.dt.day == 14)&(df.ENTRY_TIME.dt.hour == 10)].shape[0]\n",
    "        #out_var = df[(df.STOP == 'T')&(df.ENTRY_TIME.dt.day == 14)&(df.ENTRY_TIME.dt.hour == 10)].shape[0]\n",
    "        dir_cnt_var = df[(df.ENTRY_TIME.dt.day == 14)&(df.ENTRY_TIME.dt.hour == 10)&(df.DIRECTION_ID == dire)].shape[0]\n",
    "        dir_in_var = df[(df.STOP == 'P')&(df.ENTRY_TIME.dt.day == 14)&(df.ENTRY_TIME.dt.hour == 10)&(df.DIRECTION_ID == dire)].shape[0]\n",
    "        dir_out_var = df[(df.STOP == 'T')&(df.ENTRY_TIME.dt.day == 14)&(df.ENTRY_TIME.dt.hour == 10)&(df.DIRECTION_ID == dire)].shape[0]\n",
    "        type_var = df[(df.STOP == 'P')&(df.ENTRY_TIME.dt.day == 14)&(df.ENTRY_TIME.dt.hour == 10)&(df.DIRECTION_ID == dire)&(df.MVDIS_CATEGORY.isin(n_cat))].shape[0]\n",
    "        per_type_var = float((type_var/dir_in_var)*100.0)\n",
    "        ##\n",
    "        OCITY_df = pd.DataFrame(df[(df.STOP == 'P')&(df.ENTRY_TIME.dt.day == 14)&(df.ENTRY_TIME.dt.hour == 10)&(df.DIRECTION_ID == dire)&(df.MVDIS_CATEGORY.isin(n_cat))].groupby(['O_CITY']).size()).sort_values(0, ascending=False)\n",
    "        OCITY_var = [x[0] for x in OCITY_df.iterrows()][0]\n",
    "        OCITY_cnt = [x[1][0] for x in OCITY_df.iterrows()][0]\n",
    "        per_tra_var = float((OCITY_cnt/type_var)*100.0)\n",
    "        \n",
    "        index_name = \"{0}  {1}\".format(dire, n_cat)\n",
    "        index_list.append(index_name)\n",
    "        \n",
    "        each_list = [dire, dir_cnt_var, dir_in_var, dir_out_var, type_var, per_type_var, OCITY_var, per_tra_var]\n",
    "        sum_list.append(each_list)\n",
    "\n",
    "\n",
    "finally_df = pd.DataFrame(sum_list, index=index_list, columns=['direction', 'total', 'in', 'not_in', 'type_cnt', 'percentage_for_type', 'main_O_CITY', 'CITY_percentage'])              "
   ]
  },
  {
   "cell_type": "code",
   "execution_count": 399,
   "metadata": {
    "scrolled": true
   },
   "outputs": [
    {
     "data": {
      "text/html": [
       "<div>\n",
       "<style scoped>\n",
       "    .dataframe tbody tr th:only-of-type {\n",
       "        vertical-align: middle;\n",
       "    }\n",
       "\n",
       "    .dataframe tbody tr th {\n",
       "        vertical-align: top;\n",
       "    }\n",
       "\n",
       "    .dataframe thead th {\n",
       "        text-align: right;\n",
       "    }\n",
       "</style>\n",
       "<table border=\"1\" class=\"dataframe\">\n",
       "  <thead>\n",
       "    <tr style=\"text-align: right;\">\n",
       "      <th></th>\n",
       "      <th>N  [31, 32]</th>\n",
       "      <th>S  [31, 32]</th>\n",
       "      <th>N  [41]</th>\n",
       "      <th>S  [41]</th>\n",
       "      <th>N  [42, 5]</th>\n",
       "      <th>S  [42, 5]</th>\n",
       "    </tr>\n",
       "  </thead>\n",
       "  <tbody>\n",
       "    <tr>\n",
       "      <th>direction</th>\n",
       "      <td>N</td>\n",
       "      <td>S</td>\n",
       "      <td>N</td>\n",
       "      <td>S</td>\n",
       "      <td>N</td>\n",
       "      <td>S</td>\n",
       "    </tr>\n",
       "    <tr>\n",
       "      <th>total</th>\n",
       "      <td>2485</td>\n",
       "      <td>2484</td>\n",
       "      <td>2485</td>\n",
       "      <td>2484</td>\n",
       "      <td>2485</td>\n",
       "      <td>2484</td>\n",
       "    </tr>\n",
       "    <tr>\n",
       "      <th>in</th>\n",
       "      <td>225</td>\n",
       "      <td>1269</td>\n",
       "      <td>225</td>\n",
       "      <td>1269</td>\n",
       "      <td>225</td>\n",
       "      <td>1269</td>\n",
       "    </tr>\n",
       "    <tr>\n",
       "      <th>not_in</th>\n",
       "      <td>2260</td>\n",
       "      <td>1215</td>\n",
       "      <td>2260</td>\n",
       "      <td>1215</td>\n",
       "      <td>2260</td>\n",
       "      <td>1215</td>\n",
       "    </tr>\n",
       "    <tr>\n",
       "      <th>type_cnt</th>\n",
       "      <td>187</td>\n",
       "      <td>1054</td>\n",
       "      <td>9</td>\n",
       "      <td>41</td>\n",
       "      <td>29</td>\n",
       "      <td>174</td>\n",
       "    </tr>\n",
       "    <tr>\n",
       "      <th>percentage_for_type</th>\n",
       "      <td>83.1111</td>\n",
       "      <td>83.0575</td>\n",
       "      <td>4</td>\n",
       "      <td>3.23089</td>\n",
       "      <td>12.8889</td>\n",
       "      <td>13.7116</td>\n",
       "    </tr>\n",
       "    <tr>\n",
       "      <th>main_O_CITY</th>\n",
       "      <td>台中市</td>\n",
       "      <td>新北市</td>\n",
       "      <td>高雄市</td>\n",
       "      <td>新北市</td>\n",
       "      <td>台中市</td>\n",
       "      <td>桃園市</td>\n",
       "    </tr>\n",
       "    <tr>\n",
       "      <th>CITY_percentage</th>\n",
       "      <td>42.246</td>\n",
       "      <td>25.5218</td>\n",
       "      <td>33.3333</td>\n",
       "      <td>56.0976</td>\n",
       "      <td>48.2759</td>\n",
       "      <td>37.3563</td>\n",
       "    </tr>\n",
       "  </tbody>\n",
       "</table>\n",
       "</div>"
      ],
      "text/plain": [
       "                    N  [31, 32] S  [31, 32]  N  [41]  S  [41] N  [42, 5]  \\\n",
       "direction                     N           S        N        S          N   \n",
       "total                      2485        2484     2485     2484       2485   \n",
       "in                          225        1269      225     1269        225   \n",
       "not_in                     2260        1215     2260     1215       2260   \n",
       "type_cnt                    187        1054        9       41         29   \n",
       "percentage_for_type     83.1111     83.0575        4  3.23089    12.8889   \n",
       "main_O_CITY                 台中市         新北市      高雄市      新北市        台中市   \n",
       "CITY_percentage          42.246     25.5218  33.3333  56.0976    48.2759   \n",
       "\n",
       "                    S  [42, 5]  \n",
       "direction                    S  \n",
       "total                     2484  \n",
       "in                        1269  \n",
       "not_in                    1215  \n",
       "type_cnt                   174  \n",
       "percentage_for_type    13.7116  \n",
       "main_O_CITY                桃園市  \n",
       "CITY_percentage        37.3563  "
      ]
     },
     "execution_count": 399,
     "metadata": {},
     "output_type": "execute_result"
    }
   ],
   "source": [
    "finally_df.transpose()"
   ]
  },
  {
   "cell_type": "code",
   "execution_count": 398,
   "metadata": {},
   "outputs": [],
   "source": [
    "finally_df.to_csv('D://code//data//data_service_agent//result_set//day_14_hr_10_travel_sta.csv', encoding='big5')"
   ]
  },
  {
   "cell_type": "code",
   "execution_count": null,
   "metadata": {},
   "outputs": [],
   "source": [
    "#進服務區與沒進服務區佔主線比例 by 每日 distributed by direction_id (N/S) in specific hour\n",
    "days = [12, 13, 14, 15, 16, 17, 18]\n",
    "hours = [0, 1, 2, 3, 4, 5, 6, 7, 8, 9, 10, 11, 12, 13, 14, 15, 16, 17, 18, 19, 20, 21, 22, 23]\n",
    "\n",
    "for day in days:\n",
    "    total_list = []\n",
    "    for hour in hours :\n",
    "        cnt_var = df[(df.ENTRY_TIME.dt.day == day)&(df.ENTRY_TIME.dt.hour == hour)].shape[0]\n",
    "        in_var = df[(df.STOP == 'P')&(df.ENTRY_TIME.dt.day == day)&(df.ENTRY_TIME.dt.hour == hour)].shape[0]\n",
    "        out_var = df[(df.STOP == 'T')&(df.ENTRY_TIME.dt.day == day)&(df.ENTRY_TIME.dt.hour == hour)].shape[0]\n",
    "        per_var = float((in_var/cnt_var)*100.0)\n",
    "        hr_list = [in_var, out_var, cnt_var, per_var]\n",
    "        total_list.append(hr_list)\n",
    "    result_dict[\"hour_countIO_df__{0}\".format(day)] = pd.DataFrame(total_list, index=hours, columns=['in', 'not_in', 'total', 'percentage'])              "
   ]
  },
  {
   "cell_type": "markdown",
   "metadata": {},
   "source": [
    "#### write into file"
   ]
  },
  {
   "cell_type": "code",
   "execution_count": 80,
   "metadata": {},
   "outputs": [],
   "source": [
    "days = [12, 13, 14, 15, 16, 17, 18]\n",
    "categories = [31, 32, 41, 42, 5]\n",
    "hours = [0, 1, 2, 3, 4, 5, 6, 7, 8, 9, 10, 11, 12, 13, 14, 15, 16, 17, 18, 19, 20, 21, 22, 23]\n",
    "\n",
    "hour_count_df_12 = pd.DataFrame()\n",
    "hour_count_df_13 = pd.DataFrame()\n",
    "hour_count_df_14 = pd.DataFrame()\n",
    "hour_count_df_15 = pd.DataFrame()\n",
    "hour_count_df_16 = pd.DataFrame()\n",
    "hour_count_df_17 = pd.DataFrame()\n",
    "hour_count_df_18 = pd.DataFrame()\n",
    "result_dict = {}\n",
    "\n",
    "for day in days :\n",
    "    list_31 = []\n",
    "    list_32 = []\n",
    "    list_41 = []\n",
    "    list_42 = []\n",
    "    list_5 = []\n",
    "    \n",
    "    \n",
    "    for category in categories :\n",
    "        for hour in hours :\n",
    "            var = df[(df.ENTRY_TIME.dt.day == day) & (df.STOP == 'P') & (df.MVDIS_CATEGORY == category) & (df.ENTRY_TIME.dt.hour == hour)].shape\n",
    "            \n",
    "            if category == 31 :\n",
    "                list_31.append(var[0])\n",
    "            elif category == 32 :\n",
    "                list_32.append(var[0])\n",
    "            elif category == 41 :\n",
    "                list_41.append(var[0])\n",
    "            elif category == 42 :\n",
    "                list_42.append(var[0])\n",
    "            elif category == 5 :\n",
    "                list_5.append(var[0])\n",
    "    \n",
    "    if day == 12 :\n",
    "        hour_count_df_12 = pd.DataFrame([list_31, list_32, list_41, list_42, list_5], index=categories, columns=hours)\n",
    "    elif day == 13 :\n",
    "        hour_count_df_13 = pd.DataFrame([list_31, list_32, list_41, list_42, list_5], index=categories, columns=hours)\n",
    "    elif day == 14 :\n",
    "        hour_count_df_14 = pd.DataFrame([list_31, list_32, list_41, list_42, list_5], index=categories, columns=hours)\n",
    "    elif day == 15 :\n",
    "        hour_count_df_15 = pd.DataFrame([list_31, list_32, list_41, list_42, list_5], index=categories, columns=hours)\n",
    "    elif day == 16 :\n",
    "        hour_count_df_16 = pd.DataFrame([list_31, list_32, list_41, list_42, list_5], index=categories, columns=hours)\n",
    "    elif day == 17 :\n",
    "        hour_count_df_17 = pd.DataFrame([list_31, list_32, list_41, list_42, list_5], index=categories, columns=hours)\n",
    "    elif day == 18 :\n",
    "        hour_count_df_18 = pd.DataFrame([list_31, list_32, list_41, list_42, list_5], index=categories, columns=hours)\n",
    "    \n",
    "    #result_dict[\"hour_count_df__{0}\".format(day)] = pd.DataFrame([list_31, list_32, list_41, list_42, list_5], index=categories, columns=hours)                \n",
    "                "
   ]
  },
  {
   "cell_type": "code",
   "execution_count": 193,
   "metadata": {},
   "outputs": [],
   "source": [
    "days = [12, 13, 14, 15, 16, 17, 18]\n",
    "categories = [31, 32, 41, 42, 5]\n",
    "hours = [0, 1, 2, 3, 4, 5, 6, 7, 8, 9, 10, 11, 12, 13, 14, 15, 16, 17, 18, 19, 20, 21, 22, 23]\n",
    "\n",
    "\n",
    "result_dict = {}\n",
    "\n",
    "for day in days :\n",
    "    list_31 = []\n",
    "    list_32 = []\n",
    "    list_41 = []\n",
    "    list_42 = []\n",
    "    list_5 = []\n",
    "    \n",
    "    \n",
    "    for category in categories :\n",
    "        for hour in hours :\n",
    "            var = df[(df.ENTRY_TIME.dt.day == day) & (df.STOP == 'P') & (df.MVDIS_CATEGORY == category) & (df.ENTRY_TIME.dt.hour == hour)]['STOP_DURATION'].mean()\n",
    "            \n",
    "            if category == 31 :\n",
    "                list_31.append(var)\n",
    "            elif category == 32 :\n",
    "                list_32.append(var)\n",
    "            elif category == 41 :\n",
    "                list_41.append(var)\n",
    "            elif category == 42 :\n",
    "                list_42.append(var)\n",
    "            elif category == 5 :\n",
    "                list_5.append(var)\n",
    "    \n",
    "    \n",
    "    \n",
    "    result_dict[\"hour_count_df__{0}\".format(day)] = pd.DataFrame([list_31, list_32, list_41, list_42, list_5], index=categories, columns=hours).transpose()                \n",
    "                "
   ]
  },
  {
   "cell_type": "markdown",
   "metadata": {},
   "source": [
    "#### calculate average STOP_DURATION by 10 minutes\n",
    "using two list : one for start-minutes ; second for end-minutes\n",
    "and using range() or enumerate() to iterate over the time"
   ]
  },
  {
   "cell_type": "code",
   "execution_count": 199,
   "metadata": {
    "scrolled": true
   },
   "outputs": [],
   "source": [
    "# by 10 minutes\n",
    "df[(df.ENTRY_TIME.dt.day == 13) & (df.STOP == 'P') & (df.MVDIS_CATEGORY == 31) & (df.ENTRY_TIME.dt.hour == 0) & (df.ENTRY_TIME.dt.minute >= 0) & (df.ENTRY_TIME.dt.minute < 10)]['STOP_DURATION'].mean()\n",
    "#between_time('00:00:00','05:10:00')\n",
    "\n",
    "start_min = [0, 11, 21, 31, 41, 51]\n",
    "end_min = [10, 20, 30, 40, 50, 59]"
   ]
  },
  {
   "cell_type": "code",
   "execution_count": 203,
   "metadata": {},
   "outputs": [
    {
     "name": "stdout",
     "output_type": "stream",
     "text": [
      "17.869565217391305\n",
      "15.363636363636363\n",
      "15.133333333333333\n",
      "17.095238095238095\n",
      "15.615384615384615\n",
      "15.0\n"
     ]
    }
   ],
   "source": [
    "start_min = [0, 11, 21, 31, 41, 51]\n",
    "end_min = [10, 20, 30, 40, 50, 59]\n",
    "for num in enumerate(start_min):\n",
    "    var = df[(df.ENTRY_TIME.dt.day == 13) & (df.STOP == 'P') & (df.MVDIS_CATEGORY == 31) & (df.ENTRY_TIME.dt.hour == 0) & (df.ENTRY_TIME.dt.minute >= num[1]) & (df.ENTRY_TIME.dt.minute <= end_min[num[0]])]['STOP_DURATION'].mean()\n",
    "    print(var)\n",
    "    #print(num[1])\n",
    "    #print(end_min[num[0]])"
   ]
  },
  {
   "cell_type": "code",
   "execution_count": 206,
   "metadata": {},
   "outputs": [],
   "source": [
    "start_min = [00, 11, 21, 31, 41, 51]\n",
    "end_min = [10, 20, 30, 40, 50, 59]\n",
    "col_min = []\n",
    "for i in hours:\n",
    "    for j in enumerate(start_min):\n",
    "        string = \"{0}:{1}-{0}:{2}\".format(i, j[1], end_min[j[0]])\n",
    "        col_min.append(string)\n",
    "        #print(string)"
   ]
  },
  {
   "cell_type": "code",
   "execution_count": 207,
   "metadata": {},
   "outputs": [
    {
     "data": {
      "text/plain": [
       "144"
      ]
     },
     "execution_count": 207,
     "metadata": {},
     "output_type": "execute_result"
    }
   ],
   "source": [
    "len(col_min)"
   ]
  },
  {
   "cell_type": "code",
   "execution_count": 211,
   "metadata": {},
   "outputs": [],
   "source": [
    "tmp = []\n",
    "for num in enumerate(start_min):\n",
    "    var = df[(df.ENTRY_TIME.dt.day == 12) & (df.STOP == 'P') & (df.MVDIS_CATEGORY == 31) & (df.ENTRY_TIME.dt.hour == 3) & (df.ENTRY_TIME.dt.minute >= num[1]) & (df.ENTRY_TIME.dt.minute <= end_min[num[0]])]['STOP_DURATION'].mean()\n",
    "    tmp.append(var)"
   ]
  },
  {
   "cell_type": "code",
   "execution_count": 212,
   "metadata": {},
   "outputs": [
    {
     "data": {
      "text/plain": [
       "[25.285714285714285, 29.8, 28.0, 11.75, 23.0, 22.88888888888889]"
      ]
     },
     "execution_count": 212,
     "metadata": {},
     "output_type": "execute_result"
    }
   ],
   "source": [
    "tmp"
   ]
  },
  {
   "cell_type": "markdown",
   "metadata": {},
   "source": [
    "#####  select the person who's origin from the hot spot "
   ]
  },
  {
   "cell_type": "code",
   "execution_count": 244,
   "metadata": {},
   "outputs": [
    {
     "data": {
      "text/plain": [
       "[1826868, 8191127, 4394388, 1303758, 3881840]"
      ]
     },
     "execution_count": 244,
     "metadata": {},
     "output_type": "execute_result"
    }
   ],
   "source": [
    "#  & (df.ENTRY_TIME.dt.hour == 0) & (df.ENTRY_TIME.dt.minute >= 0) & (df.ENTRY_TIME.dt.minute <= 10)(df.STOP == 'P')  &(df.ENTRY_TIME.dt.day == 16)\n",
    "\n",
    "list(df[ (df.STOP == 'P')  &(df.ENTRY_TIME.dt.day == 17)&(df.O_CITY == '台中市')]['VEHICLE_ID'].head())"
   ]
  },
  {
   "cell_type": "code",
   "execution_count": 86,
   "metadata": {},
   "outputs": [],
   "source": [
    "result_S = pd.DataFrame()"
   ]
  },
  {
   "cell_type": "code",
   "execution_count": 263,
   "metadata": {},
   "outputs": [
    {
     "data": {
      "text/plain": [
       "pandas.core.frame.DataFrame"
      ]
     },
     "execution_count": 263,
     "metadata": {},
     "output_type": "execute_result"
    }
   ],
   "source": [
    "type(result)"
   ]
  },
  {
   "cell_type": "markdown",
   "metadata": {},
   "source": [
    "##### fetching the conditioned (where vehicle_id in hot spot) data and concat dataframe together"
   ]
  },
  {
   "cell_type": "code",
   "execution_count": 90,
   "metadata": {},
   "outputs": [],
   "source": [
    "weekdays = [12, 13, 14, 15, 16]\n",
    "for ID in list(df[ (df.STOP == 'P') &(df.DIRECTION_ID == 'S') &(df.ENTRY_TIME.dt.day == 17)&(df.O_CITY == '新北市')]['VEHICLE_ID']) :\n",
    "    f_ck_tb = pd.DataFrame(df[(df.ENTRY_TIME.dt.day.isin(weekdays))  & (df.VEHICLE_ID == ID) ])\n",
    "    frames = [result_S, f_ck_tb]\n",
    "    result_S = pd.concat(frames)"
   ]
  },
  {
   "cell_type": "code",
   "execution_count": 89,
   "metadata": {},
   "outputs": [
    {
     "data": {
      "text/plain": [
       "(2649, 25)"
      ]
     },
     "execution_count": 89,
     "metadata": {},
     "output_type": "execute_result"
    }
   ],
   "source": [
    "df[ (df.STOP == 'P') &(df.DIRECTION_ID == 'S') &(df.ENTRY_TIME.dt.day == 17)&(df.O_CITY == '新北市')].shape"
   ]
  },
  {
   "cell_type": "code",
   "execution_count": 91,
   "metadata": {},
   "outputs": [
    {
     "data": {
      "text/plain": [
       "(851, 25)"
      ]
     },
     "execution_count": 91,
     "metadata": {},
     "output_type": "execute_result"
    }
   ],
   "source": [
    "result_S.shape"
   ]
  },
  {
   "cell_type": "code",
   "execution_count": 78,
   "metadata": {
    "scrolled": false
   },
   "outputs": [],
   "source": [
    "dump_tb = pd.DataFrame(result_S[(result_S.DIRECTION_ID == 'N')].groupby(['O_CITY', 'D_CITY']).size()).sort_values(0, ascending=False)"
   ]
  },
  {
   "cell_type": "code",
   "execution_count": 93,
   "metadata": {},
   "outputs": [
    {
     "data": {
      "text/plain": [
       "(355, 25)"
      ]
     },
     "execution_count": 93,
     "metadata": {},
     "output_type": "execute_result"
    }
   ],
   "source": [
    "result_S[(result_S.DIRECTION_ID == 'S')].shape"
   ]
  },
  {
   "cell_type": "code",
   "execution_count": 79,
   "metadata": {},
   "outputs": [],
   "source": [
    "dump_tb.to_csv('D://code//data//data_service_agent//result_set//backTravel_N_travel_OD_N.csv', encoding='big5')"
   ]
  },
  {
   "cell_type": "code",
   "execution_count": 112,
   "metadata": {},
   "outputs": [],
   "source": [
    "#result_S[(result_S.DIRECTION_ID == 'S')]"
   ]
  },
  {
   "cell_type": "code",
   "execution_count": 113,
   "metadata": {},
   "outputs": [],
   "source": [
    "weekdays = [12, 13, 14, 15, 16]\n",
    "for ID in list(df[ (df.STOP == 'P')  &(df.ENTRY_TIME.dt.day == 17)&(df.O_CITY == '新北市')]['VEHICLE_ID']) :\n",
    "    f_ck_tb = pd.DataFrame(df[(df.ENTRY_TIME.dt.day.isin(weekdays))  & (df.VEHICLE_ID == ID)])\n",
    "    if f_ck_tb.shape[0] != 0 :\n",
    "        break\n",
    "        #print(f_ck_tb)\n",
    "    #df['A'].isin([3, 6])"
   ]
  },
  {
   "cell_type": "markdown",
   "metadata": {},
   "source": [
    "#### STOP_DURATION .mean() by HOUR or MIN\n",
    "#### with count using .shape"
   ]
  },
  {
   "cell_type": "code",
   "execution_count": 230,
   "metadata": {
    "scrolled": true
   },
   "outputs": [],
   "source": [
    "days = [12, 13, 14, 15, 16, 17, 18]\n",
    "categories = [31, 32, 41, 42, 5]\n",
    "hours = [0, 1, 2, 3, 4, 5, 6, 7, 8, 9, 10, 11, 12, 13, 14, 15, 16, 17, 18, 19, 20, 21, 22, 23]\n",
    "start_min = [0, 11, 21, 31, 41, 51]\n",
    "end_min = [10, 20, 30, 40, 50, 59]\n",
    "directions = ['N', 'S']\n",
    "\n",
    "result_dict = {}\n",
    "\n",
    "for day in days :\n",
    "    \n",
    "    \n",
    "    for dire in directions:\n",
    "        list_31 = []\n",
    "        list_32 = []\n",
    "        list_41 = []\n",
    "        list_42 = []\n",
    "        list_5 = []\n",
    "    \n",
    "        for category in categories :\n",
    "            for hour in hours :\n",
    "                for num in enumerate(start_min):\n",
    "                    var = df[(df.ENTRY_TIME.dt.day == day) & (df.STOP == 'P') &(df.DIRECTION_ID == dire)& (df.MVDIS_CATEGORY == category) & (df.ENTRY_TIME.dt.hour == hour) & (df.ENTRY_TIME.dt.minute >= num[1]) & (df.ENTRY_TIME.dt.minute <= end_min[num[0]])]['STOP_DURATION'].mean()\n",
    "                    string = \"{0}:{1}-{0}:{2}\".format(hour, num[1], end_min[num[0]])\n",
    "                    if category == 31 :\n",
    "                        list_31.append(var)\n",
    "                    elif category == 32 :\n",
    "                        list_32.append(var)\n",
    "                    elif category == 41 :\n",
    "                        list_41.append(var)\n",
    "                    elif category == 42 :\n",
    "                        list_42.append(var)\n",
    "                    elif category == 5 :\n",
    "                        list_5.append(var)\n",
    "\n",
    "\n",
    "\n",
    "        result_dict[\"min_count_df_{1}__{0}\".format(day, dire)] = pd.DataFrame([list_31, list_32, list_41, list_42, list_5], index=categories, columns=col_min).transpose()                \n"
   ]
  },
  {
   "cell_type": "code",
   "execution_count": 232,
   "metadata": {},
   "outputs": [],
   "source": [
    "for day in days :\n",
    "    for dire in directions:\n",
    "        result_dict[\"min_count_df_{1}__{0}\".format(day, dire)].to_csv('D://code//data//data_service_agent//result_set//car_stDURATION_byMIN_day_{1}_{0}.csv'.format(day, dire), na_rep='0')\n",
    "\n",
    "#result_dict['hour_count_df__12']"
   ]
  },
  {
   "cell_type": "code",
   "execution_count": 218,
   "metadata": {},
   "outputs": [],
   "source": [
    "var = df[(df.ENTRY_TIME.dt.day == 12) & (df.STOP == 'P') & (df.MVDIS_CATEGORY == 41) & (df.ENTRY_TIME.dt.hour == 0) & (df.ENTRY_TIME.dt.minute >= 0) & (df.ENTRY_TIME.dt.minute <= 10)]"
   ]
  },
  {
   "cell_type": "code",
   "execution_count": 231,
   "metadata": {
    "scrolled": true
   },
   "outputs": [
    {
     "data": {
      "text/html": [
       "<div>\n",
       "<style scoped>\n",
       "    .dataframe tbody tr th:only-of-type {\n",
       "        vertical-align: middle;\n",
       "    }\n",
       "\n",
       "    .dataframe tbody tr th {\n",
       "        vertical-align: top;\n",
       "    }\n",
       "\n",
       "    .dataframe thead th {\n",
       "        text-align: right;\n",
       "    }\n",
       "</style>\n",
       "<table border=\"1\" class=\"dataframe\">\n",
       "  <thead>\n",
       "    <tr style=\"text-align: right;\">\n",
       "      <th></th>\n",
       "      <th>31</th>\n",
       "      <th>32</th>\n",
       "      <th>41</th>\n",
       "      <th>42</th>\n",
       "      <th>5</th>\n",
       "    </tr>\n",
       "  </thead>\n",
       "  <tbody>\n",
       "    <tr>\n",
       "      <th>0:0-0:10</th>\n",
       "      <td>22.000000</td>\n",
       "      <td>26.666667</td>\n",
       "      <td>NaN</td>\n",
       "      <td>NaN</td>\n",
       "      <td>NaN</td>\n",
       "    </tr>\n",
       "    <tr>\n",
       "      <th>0:11-0:20</th>\n",
       "      <td>14.692308</td>\n",
       "      <td>NaN</td>\n",
       "      <td>NaN</td>\n",
       "      <td>23.000000</td>\n",
       "      <td>NaN</td>\n",
       "    </tr>\n",
       "    <tr>\n",
       "      <th>0:21-0:30</th>\n",
       "      <td>18.083333</td>\n",
       "      <td>22.000000</td>\n",
       "      <td>NaN</td>\n",
       "      <td>NaN</td>\n",
       "      <td>NaN</td>\n",
       "    </tr>\n",
       "    <tr>\n",
       "      <th>0:31-0:40</th>\n",
       "      <td>11.000000</td>\n",
       "      <td>32.250000</td>\n",
       "      <td>NaN</td>\n",
       "      <td>NaN</td>\n",
       "      <td>NaN</td>\n",
       "    </tr>\n",
       "    <tr>\n",
       "      <th>0:41-0:50</th>\n",
       "      <td>18.583333</td>\n",
       "      <td>11.000000</td>\n",
       "      <td>NaN</td>\n",
       "      <td>NaN</td>\n",
       "      <td>NaN</td>\n",
       "    </tr>\n",
       "    <tr>\n",
       "      <th>0:51-0:59</th>\n",
       "      <td>20.000000</td>\n",
       "      <td>17.666667</td>\n",
       "      <td>NaN</td>\n",
       "      <td>10.000000</td>\n",
       "      <td>NaN</td>\n",
       "    </tr>\n",
       "    <tr>\n",
       "      <th>1:0-1:10</th>\n",
       "      <td>15.222222</td>\n",
       "      <td>NaN</td>\n",
       "      <td>NaN</td>\n",
       "      <td>NaN</td>\n",
       "      <td>NaN</td>\n",
       "    </tr>\n",
       "    <tr>\n",
       "      <th>1:11-1:20</th>\n",
       "      <td>21.454545</td>\n",
       "      <td>9.500000</td>\n",
       "      <td>16.00</td>\n",
       "      <td>NaN</td>\n",
       "      <td>NaN</td>\n",
       "    </tr>\n",
       "    <tr>\n",
       "      <th>1:21-1:30</th>\n",
       "      <td>16.571429</td>\n",
       "      <td>9.500000</td>\n",
       "      <td>NaN</td>\n",
       "      <td>NaN</td>\n",
       "      <td>NaN</td>\n",
       "    </tr>\n",
       "    <tr>\n",
       "      <th>1:31-1:40</th>\n",
       "      <td>22.428571</td>\n",
       "      <td>20.000000</td>\n",
       "      <td>NaN</td>\n",
       "      <td>NaN</td>\n",
       "      <td>NaN</td>\n",
       "    </tr>\n",
       "    <tr>\n",
       "      <th>1:41-1:50</th>\n",
       "      <td>26.000000</td>\n",
       "      <td>37.333333</td>\n",
       "      <td>NaN</td>\n",
       "      <td>24.500000</td>\n",
       "      <td>NaN</td>\n",
       "    </tr>\n",
       "    <tr>\n",
       "      <th>1:51-1:59</th>\n",
       "      <td>16.600000</td>\n",
       "      <td>11.000000</td>\n",
       "      <td>NaN</td>\n",
       "      <td>NaN</td>\n",
       "      <td>NaN</td>\n",
       "    </tr>\n",
       "    <tr>\n",
       "      <th>2:0-2:10</th>\n",
       "      <td>17.500000</td>\n",
       "      <td>NaN</td>\n",
       "      <td>NaN</td>\n",
       "      <td>25.500000</td>\n",
       "      <td>NaN</td>\n",
       "    </tr>\n",
       "    <tr>\n",
       "      <th>2:11-2:20</th>\n",
       "      <td>12.333333</td>\n",
       "      <td>NaN</td>\n",
       "      <td>NaN</td>\n",
       "      <td>NaN</td>\n",
       "      <td>NaN</td>\n",
       "    </tr>\n",
       "    <tr>\n",
       "      <th>2:21-2:30</th>\n",
       "      <td>31.000000</td>\n",
       "      <td>NaN</td>\n",
       "      <td>NaN</td>\n",
       "      <td>11.000000</td>\n",
       "      <td>NaN</td>\n",
       "    </tr>\n",
       "    <tr>\n",
       "      <th>2:31-2:40</th>\n",
       "      <td>21.166667</td>\n",
       "      <td>13.333333</td>\n",
       "      <td>NaN</td>\n",
       "      <td>NaN</td>\n",
       "      <td>23.0</td>\n",
       "    </tr>\n",
       "    <tr>\n",
       "      <th>2:41-2:50</th>\n",
       "      <td>12.333333</td>\n",
       "      <td>16.000000</td>\n",
       "      <td>NaN</td>\n",
       "      <td>NaN</td>\n",
       "      <td>NaN</td>\n",
       "    </tr>\n",
       "    <tr>\n",
       "      <th>2:51-2:59</th>\n",
       "      <td>12.000000</td>\n",
       "      <td>21.000000</td>\n",
       "      <td>NaN</td>\n",
       "      <td>NaN</td>\n",
       "      <td>NaN</td>\n",
       "    </tr>\n",
       "    <tr>\n",
       "      <th>3:0-3:10</th>\n",
       "      <td>23.500000</td>\n",
       "      <td>26.500000</td>\n",
       "      <td>NaN</td>\n",
       "      <td>8.500000</td>\n",
       "      <td>NaN</td>\n",
       "    </tr>\n",
       "    <tr>\n",
       "      <th>3:11-3:20</th>\n",
       "      <td>32.250000</td>\n",
       "      <td>13.000000</td>\n",
       "      <td>NaN</td>\n",
       "      <td>NaN</td>\n",
       "      <td>NaN</td>\n",
       "    </tr>\n",
       "    <tr>\n",
       "      <th>3:21-3:30</th>\n",
       "      <td>40.666667</td>\n",
       "      <td>21.000000</td>\n",
       "      <td>27.00</td>\n",
       "      <td>NaN</td>\n",
       "      <td>NaN</td>\n",
       "    </tr>\n",
       "    <tr>\n",
       "      <th>3:31-3:40</th>\n",
       "      <td>12.000000</td>\n",
       "      <td>15.000000</td>\n",
       "      <td>17.00</td>\n",
       "      <td>59.000000</td>\n",
       "      <td>NaN</td>\n",
       "    </tr>\n",
       "    <tr>\n",
       "      <th>3:41-3:50</th>\n",
       "      <td>27.400000</td>\n",
       "      <td>28.000000</td>\n",
       "      <td>NaN</td>\n",
       "      <td>NaN</td>\n",
       "      <td>NaN</td>\n",
       "    </tr>\n",
       "    <tr>\n",
       "      <th>3:51-3:59</th>\n",
       "      <td>27.333333</td>\n",
       "      <td>66.000000</td>\n",
       "      <td>NaN</td>\n",
       "      <td>15.000000</td>\n",
       "      <td>NaN</td>\n",
       "    </tr>\n",
       "    <tr>\n",
       "      <th>4:0-4:10</th>\n",
       "      <td>49.500000</td>\n",
       "      <td>52.000000</td>\n",
       "      <td>NaN</td>\n",
       "      <td>NaN</td>\n",
       "      <td>NaN</td>\n",
       "    </tr>\n",
       "    <tr>\n",
       "      <th>4:11-4:20</th>\n",
       "      <td>14.000000</td>\n",
       "      <td>9.000000</td>\n",
       "      <td>NaN</td>\n",
       "      <td>NaN</td>\n",
       "      <td>NaN</td>\n",
       "    </tr>\n",
       "    <tr>\n",
       "      <th>4:21-4:30</th>\n",
       "      <td>28.142857</td>\n",
       "      <td>NaN</td>\n",
       "      <td>NaN</td>\n",
       "      <td>67.000000</td>\n",
       "      <td>13.0</td>\n",
       "    </tr>\n",
       "    <tr>\n",
       "      <th>4:31-4:40</th>\n",
       "      <td>25.500000</td>\n",
       "      <td>10.500000</td>\n",
       "      <td>NaN</td>\n",
       "      <td>17.000000</td>\n",
       "      <td>NaN</td>\n",
       "    </tr>\n",
       "    <tr>\n",
       "      <th>4:41-4:50</th>\n",
       "      <td>16.000000</td>\n",
       "      <td>14.000000</td>\n",
       "      <td>NaN</td>\n",
       "      <td>13.000000</td>\n",
       "      <td>NaN</td>\n",
       "    </tr>\n",
       "    <tr>\n",
       "      <th>4:51-4:59</th>\n",
       "      <td>15.142857</td>\n",
       "      <td>20.000000</td>\n",
       "      <td>NaN</td>\n",
       "      <td>11.000000</td>\n",
       "      <td>NaN</td>\n",
       "    </tr>\n",
       "    <tr>\n",
       "      <th>...</th>\n",
       "      <td>...</td>\n",
       "      <td>...</td>\n",
       "      <td>...</td>\n",
       "      <td>...</td>\n",
       "      <td>...</td>\n",
       "    </tr>\n",
       "    <tr>\n",
       "      <th>19:0-19:10</th>\n",
       "      <td>23.000000</td>\n",
       "      <td>17.166667</td>\n",
       "      <td>33.00</td>\n",
       "      <td>25.000000</td>\n",
       "      <td>NaN</td>\n",
       "    </tr>\n",
       "    <tr>\n",
       "      <th>19:11-19:20</th>\n",
       "      <td>22.758621</td>\n",
       "      <td>25.166667</td>\n",
       "      <td>19.50</td>\n",
       "      <td>26.000000</td>\n",
       "      <td>NaN</td>\n",
       "    </tr>\n",
       "    <tr>\n",
       "      <th>19:21-19:30</th>\n",
       "      <td>21.941176</td>\n",
       "      <td>12.166667</td>\n",
       "      <td>12.00</td>\n",
       "      <td>NaN</td>\n",
       "      <td>32.0</td>\n",
       "    </tr>\n",
       "    <tr>\n",
       "      <th>19:31-19:40</th>\n",
       "      <td>21.642857</td>\n",
       "      <td>15.000000</td>\n",
       "      <td>NaN</td>\n",
       "      <td>NaN</td>\n",
       "      <td>27.5</td>\n",
       "    </tr>\n",
       "    <tr>\n",
       "      <th>19:41-19:50</th>\n",
       "      <td>18.541667</td>\n",
       "      <td>27.500000</td>\n",
       "      <td>NaN</td>\n",
       "      <td>11.000000</td>\n",
       "      <td>NaN</td>\n",
       "    </tr>\n",
       "    <tr>\n",
       "      <th>19:51-19:59</th>\n",
       "      <td>21.411765</td>\n",
       "      <td>22.000000</td>\n",
       "      <td>19.00</td>\n",
       "      <td>35.000000</td>\n",
       "      <td>NaN</td>\n",
       "    </tr>\n",
       "    <tr>\n",
       "      <th>20:0-20:10</th>\n",
       "      <td>19.277778</td>\n",
       "      <td>17.600000</td>\n",
       "      <td>14.00</td>\n",
       "      <td>21.000000</td>\n",
       "      <td>NaN</td>\n",
       "    </tr>\n",
       "    <tr>\n",
       "      <th>20:11-20:20</th>\n",
       "      <td>19.950000</td>\n",
       "      <td>12.000000</td>\n",
       "      <td>12.00</td>\n",
       "      <td>NaN</td>\n",
       "      <td>NaN</td>\n",
       "    </tr>\n",
       "    <tr>\n",
       "      <th>20:21-20:30</th>\n",
       "      <td>25.166667</td>\n",
       "      <td>22.000000</td>\n",
       "      <td>14.00</td>\n",
       "      <td>47.500000</td>\n",
       "      <td>NaN</td>\n",
       "    </tr>\n",
       "    <tr>\n",
       "      <th>20:31-20:40</th>\n",
       "      <td>21.882353</td>\n",
       "      <td>22.000000</td>\n",
       "      <td>NaN</td>\n",
       "      <td>47.000000</td>\n",
       "      <td>NaN</td>\n",
       "    </tr>\n",
       "    <tr>\n",
       "      <th>20:41-20:50</th>\n",
       "      <td>16.000000</td>\n",
       "      <td>13.000000</td>\n",
       "      <td>NaN</td>\n",
       "      <td>49.500000</td>\n",
       "      <td>16.0</td>\n",
       "    </tr>\n",
       "    <tr>\n",
       "      <th>20:51-20:59</th>\n",
       "      <td>24.916667</td>\n",
       "      <td>NaN</td>\n",
       "      <td>NaN</td>\n",
       "      <td>NaN</td>\n",
       "      <td>NaN</td>\n",
       "    </tr>\n",
       "    <tr>\n",
       "      <th>21:0-21:10</th>\n",
       "      <td>19.666667</td>\n",
       "      <td>18.000000</td>\n",
       "      <td>21.00</td>\n",
       "      <td>NaN</td>\n",
       "      <td>NaN</td>\n",
       "    </tr>\n",
       "    <tr>\n",
       "      <th>21:11-21:20</th>\n",
       "      <td>16.555556</td>\n",
       "      <td>29.000000</td>\n",
       "      <td>NaN</td>\n",
       "      <td>NaN</td>\n",
       "      <td>NaN</td>\n",
       "    </tr>\n",
       "    <tr>\n",
       "      <th>21:21-21:30</th>\n",
       "      <td>17.500000</td>\n",
       "      <td>14.500000</td>\n",
       "      <td>13.75</td>\n",
       "      <td>NaN</td>\n",
       "      <td>11.0</td>\n",
       "    </tr>\n",
       "    <tr>\n",
       "      <th>21:31-21:40</th>\n",
       "      <td>19.250000</td>\n",
       "      <td>9.000000</td>\n",
       "      <td>NaN</td>\n",
       "      <td>11.000000</td>\n",
       "      <td>NaN</td>\n",
       "    </tr>\n",
       "    <tr>\n",
       "      <th>21:41-21:50</th>\n",
       "      <td>19.875000</td>\n",
       "      <td>24.200000</td>\n",
       "      <td>14.00</td>\n",
       "      <td>50.000000</td>\n",
       "      <td>NaN</td>\n",
       "    </tr>\n",
       "    <tr>\n",
       "      <th>21:51-21:59</th>\n",
       "      <td>15.333333</td>\n",
       "      <td>19.000000</td>\n",
       "      <td>21.50</td>\n",
       "      <td>11.000000</td>\n",
       "      <td>NaN</td>\n",
       "    </tr>\n",
       "    <tr>\n",
       "      <th>22:0-22:10</th>\n",
       "      <td>15.076923</td>\n",
       "      <td>26.000000</td>\n",
       "      <td>NaN</td>\n",
       "      <td>NaN</td>\n",
       "      <td>NaN</td>\n",
       "    </tr>\n",
       "    <tr>\n",
       "      <th>22:11-22:20</th>\n",
       "      <td>18.916667</td>\n",
       "      <td>25.285714</td>\n",
       "      <td>NaN</td>\n",
       "      <td>13.333333</td>\n",
       "      <td>NaN</td>\n",
       "    </tr>\n",
       "    <tr>\n",
       "      <th>22:21-22:30</th>\n",
       "      <td>12.333333</td>\n",
       "      <td>10.000000</td>\n",
       "      <td>NaN</td>\n",
       "      <td>15.000000</td>\n",
       "      <td>15.0</td>\n",
       "    </tr>\n",
       "    <tr>\n",
       "      <th>22:31-22:40</th>\n",
       "      <td>22.500000</td>\n",
       "      <td>28.666667</td>\n",
       "      <td>NaN</td>\n",
       "      <td>20.000000</td>\n",
       "      <td>NaN</td>\n",
       "    </tr>\n",
       "    <tr>\n",
       "      <th>22:41-22:50</th>\n",
       "      <td>20.692308</td>\n",
       "      <td>18.000000</td>\n",
       "      <td>NaN</td>\n",
       "      <td>12.000000</td>\n",
       "      <td>NaN</td>\n",
       "    </tr>\n",
       "    <tr>\n",
       "      <th>22:51-22:59</th>\n",
       "      <td>17.642857</td>\n",
       "      <td>23.333333</td>\n",
       "      <td>NaN</td>\n",
       "      <td>NaN</td>\n",
       "      <td>NaN</td>\n",
       "    </tr>\n",
       "    <tr>\n",
       "      <th>23:0-23:10</th>\n",
       "      <td>16.714286</td>\n",
       "      <td>18.500000</td>\n",
       "      <td>NaN</td>\n",
       "      <td>12.000000</td>\n",
       "      <td>NaN</td>\n",
       "    </tr>\n",
       "    <tr>\n",
       "      <th>23:11-23:20</th>\n",
       "      <td>13.875000</td>\n",
       "      <td>13.500000</td>\n",
       "      <td>11.00</td>\n",
       "      <td>NaN</td>\n",
       "      <td>NaN</td>\n",
       "    </tr>\n",
       "    <tr>\n",
       "      <th>23:21-23:30</th>\n",
       "      <td>18.333333</td>\n",
       "      <td>11.000000</td>\n",
       "      <td>15.00</td>\n",
       "      <td>NaN</td>\n",
       "      <td>NaN</td>\n",
       "    </tr>\n",
       "    <tr>\n",
       "      <th>23:31-23:40</th>\n",
       "      <td>14.333333</td>\n",
       "      <td>11.000000</td>\n",
       "      <td>NaN</td>\n",
       "      <td>16.500000</td>\n",
       "      <td>NaN</td>\n",
       "    </tr>\n",
       "    <tr>\n",
       "      <th>23:41-23:50</th>\n",
       "      <td>10.333333</td>\n",
       "      <td>8.000000</td>\n",
       "      <td>NaN</td>\n",
       "      <td>NaN</td>\n",
       "      <td>11.0</td>\n",
       "    </tr>\n",
       "    <tr>\n",
       "      <th>23:51-23:59</th>\n",
       "      <td>NaN</td>\n",
       "      <td>NaN</td>\n",
       "      <td>NaN</td>\n",
       "      <td>NaN</td>\n",
       "      <td>NaN</td>\n",
       "    </tr>\n",
       "  </tbody>\n",
       "</table>\n",
       "<p>144 rows × 5 columns</p>\n",
       "</div>"
      ],
      "text/plain": [
       "                    31         32     41         42    5 \n",
       "0:0-0:10     22.000000  26.666667    NaN        NaN   NaN\n",
       "0:11-0:20    14.692308        NaN    NaN  23.000000   NaN\n",
       "0:21-0:30    18.083333  22.000000    NaN        NaN   NaN\n",
       "0:31-0:40    11.000000  32.250000    NaN        NaN   NaN\n",
       "0:41-0:50    18.583333  11.000000    NaN        NaN   NaN\n",
       "0:51-0:59    20.000000  17.666667    NaN  10.000000   NaN\n",
       "1:0-1:10     15.222222        NaN    NaN        NaN   NaN\n",
       "1:11-1:20    21.454545   9.500000  16.00        NaN   NaN\n",
       "1:21-1:30    16.571429   9.500000    NaN        NaN   NaN\n",
       "1:31-1:40    22.428571  20.000000    NaN        NaN   NaN\n",
       "1:41-1:50    26.000000  37.333333    NaN  24.500000   NaN\n",
       "1:51-1:59    16.600000  11.000000    NaN        NaN   NaN\n",
       "2:0-2:10     17.500000        NaN    NaN  25.500000   NaN\n",
       "2:11-2:20    12.333333        NaN    NaN        NaN   NaN\n",
       "2:21-2:30    31.000000        NaN    NaN  11.000000   NaN\n",
       "2:31-2:40    21.166667  13.333333    NaN        NaN  23.0\n",
       "2:41-2:50    12.333333  16.000000    NaN        NaN   NaN\n",
       "2:51-2:59    12.000000  21.000000    NaN        NaN   NaN\n",
       "3:0-3:10     23.500000  26.500000    NaN   8.500000   NaN\n",
       "3:11-3:20    32.250000  13.000000    NaN        NaN   NaN\n",
       "3:21-3:30    40.666667  21.000000  27.00        NaN   NaN\n",
       "3:31-3:40    12.000000  15.000000  17.00  59.000000   NaN\n",
       "3:41-3:50    27.400000  28.000000    NaN        NaN   NaN\n",
       "3:51-3:59    27.333333  66.000000    NaN  15.000000   NaN\n",
       "4:0-4:10     49.500000  52.000000    NaN        NaN   NaN\n",
       "4:11-4:20    14.000000   9.000000    NaN        NaN   NaN\n",
       "4:21-4:30    28.142857        NaN    NaN  67.000000  13.0\n",
       "4:31-4:40    25.500000  10.500000    NaN  17.000000   NaN\n",
       "4:41-4:50    16.000000  14.000000    NaN  13.000000   NaN\n",
       "4:51-4:59    15.142857  20.000000    NaN  11.000000   NaN\n",
       "...                ...        ...    ...        ...   ...\n",
       "19:0-19:10   23.000000  17.166667  33.00  25.000000   NaN\n",
       "19:11-19:20  22.758621  25.166667  19.50  26.000000   NaN\n",
       "19:21-19:30  21.941176  12.166667  12.00        NaN  32.0\n",
       "19:31-19:40  21.642857  15.000000    NaN        NaN  27.5\n",
       "19:41-19:50  18.541667  27.500000    NaN  11.000000   NaN\n",
       "19:51-19:59  21.411765  22.000000  19.00  35.000000   NaN\n",
       "20:0-20:10   19.277778  17.600000  14.00  21.000000   NaN\n",
       "20:11-20:20  19.950000  12.000000  12.00        NaN   NaN\n",
       "20:21-20:30  25.166667  22.000000  14.00  47.500000   NaN\n",
       "20:31-20:40  21.882353  22.000000    NaN  47.000000   NaN\n",
       "20:41-20:50  16.000000  13.000000    NaN  49.500000  16.0\n",
       "20:51-20:59  24.916667        NaN    NaN        NaN   NaN\n",
       "21:0-21:10   19.666667  18.000000  21.00        NaN   NaN\n",
       "21:11-21:20  16.555556  29.000000    NaN        NaN   NaN\n",
       "21:21-21:30  17.500000  14.500000  13.75        NaN  11.0\n",
       "21:31-21:40  19.250000   9.000000    NaN  11.000000   NaN\n",
       "21:41-21:50  19.875000  24.200000  14.00  50.000000   NaN\n",
       "21:51-21:59  15.333333  19.000000  21.50  11.000000   NaN\n",
       "22:0-22:10   15.076923  26.000000    NaN        NaN   NaN\n",
       "22:11-22:20  18.916667  25.285714    NaN  13.333333   NaN\n",
       "22:21-22:30  12.333333  10.000000    NaN  15.000000  15.0\n",
       "22:31-22:40  22.500000  28.666667    NaN  20.000000   NaN\n",
       "22:41-22:50  20.692308  18.000000    NaN  12.000000   NaN\n",
       "22:51-22:59  17.642857  23.333333    NaN        NaN   NaN\n",
       "23:0-23:10   16.714286  18.500000    NaN  12.000000   NaN\n",
       "23:11-23:20  13.875000  13.500000  11.00        NaN   NaN\n",
       "23:21-23:30  18.333333  11.000000  15.00        NaN   NaN\n",
       "23:31-23:40  14.333333  11.000000    NaN  16.500000   NaN\n",
       "23:41-23:50  10.333333   8.000000    NaN        NaN  11.0\n",
       "23:51-23:59        NaN        NaN    NaN        NaN   NaN\n",
       "\n",
       "[144 rows x 5 columns]"
      ]
     },
     "execution_count": 231,
     "metadata": {},
     "output_type": "execute_result"
    }
   ],
   "source": [
    "result_dict['min_count_df_S__12']"
   ]
  },
  {
   "cell_type": "code",
   "execution_count": 56,
   "metadata": {
    "scrolled": true
   },
   "outputs": [
    {
     "name": "stdout",
     "output_type": "stream",
     "text": [
      "12 31 =    23.052909122868694\n",
      "12 32 =    23.365062195781505\n",
      "12 41 =    25.326984126984126\n",
      "12 42 =    27.48581560283688\n",
      "12 5 =    24.164634146341463\n",
      "13 31 =    23.696343402225754\n",
      "13 32 =    24.35663082437276\n",
      "13 41 =    22.3125\n",
      "13 42 =    28.01043219076006\n",
      "13 5 =    25.3601108033241\n",
      "14 31 =    22.15957808778496\n",
      "14 32 =    22.178881388621022\n",
      "14 41 =    23.209302325581394\n",
      "14 42 =    25.01522842639594\n",
      "14 5 =    22.28708133971292\n",
      "15 31 =    20.85086412395709\n",
      "15 32 =    20.521565495207668\n",
      "15 41 =    19.475935828877006\n",
      "15 42 =    24.05679012345679\n",
      "15 5 =    22.77952755905512\n",
      "16 31 =    22.57252905078992\n",
      "16 32 =    23.112483458314955\n",
      "16 41 =    21.046272493573266\n",
      "16 42 =    27.656891495601172\n",
      "16 5 =    24.018469656992085\n",
      "17 31 =    23.770977707272273\n",
      "17 32 =    23.651240281377266\n",
      "17 41 =    22.993817619783616\n",
      "17 42 =    26.801652892561982\n",
      "17 5 =    22.953191489361704\n",
      "18 31 =    21.914016947834874\n",
      "18 32 =    22.535133136094675\n",
      "18 41 =    20.650459921156372\n",
      "18 42 =    25.023809523809526\n",
      "18 5 =    23.02777777777778\n"
     ]
    }
   ],
   "source": [
    "days = [12, 13, 14, 15, 16, 17, 18]\n",
    "categories = [31, 32, 41, 42, 5]\n",
    "\n",
    "for day in days :\n",
    "    for category in categories :\n",
    "        var = df[(df.ENTRY_TIME.dt.day == day) & (df.STOP == 'P') & (df.MVDIS_CATEGORY == category)]['STOP_DURATION'].mean()\n",
    "        print(day, category, '=   ', var)"
   ]
  },
  {
   "cell_type": "code",
   "execution_count": null,
   "metadata": {},
   "outputs": [],
   "source": []
  }
 ],
 "metadata": {
  "kernelspec": {
   "display_name": "Python 3",
   "language": "python",
   "name": "python3"
  },
  "language_info": {
   "codemirror_mode": {
    "name": "ipython",
    "version": 3
   },
   "file_extension": ".py",
   "mimetype": "text/x-python",
   "name": "python",
   "nbconvert_exporter": "python",
   "pygments_lexer": "ipython3",
   "version": "3.6.4"
  }
 },
 "nbformat": 4,
 "nbformat_minor": 2
}
