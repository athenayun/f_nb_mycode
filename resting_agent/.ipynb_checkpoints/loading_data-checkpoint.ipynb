{
 "cells": [
  {
   "cell_type": "code",
   "execution_count": 1,
   "metadata": {},
   "outputs": [],
   "source": [
    "import pandas as pd"
   ]
  },
  {
   "cell_type": "code",
   "execution_count": 22,
   "metadata": {
    "scrolled": true
   },
   "outputs": [],
   "source": [
    "df = pd.read_csv('D://code//data//data_service_agent//20180317_N_TRIP.txt', encoding='utf-8', sep=',')"
   ]
  },
  {
   "cell_type": "markdown",
   "metadata": {},
   "source": [
    "#### adding columns in a specific location"
   ]
  },
  {
   "cell_type": "code",
   "execution_count": 15,
   "metadata": {},
   "outputs": [],
   "source": [
    "idx = 0\n",
    "new_col = [x for x in range(df.shape[0])]  # can be a list, a Series, an array or a scalar   \n",
    "df.insert(loc=idx, column='BMS_TX_BATCH', value=new_col)"
   ]
  },
  {
   "cell_type": "code",
   "execution_count": 12,
   "metadata": {},
   "outputs": [],
   "source": [
    "new_col = [x for x in range(df.shape[0])] "
   ]
  },
  {
   "cell_type": "markdown",
   "metadata": {},
   "source": [
    "#### checking data"
   ]
  },
  {
   "cell_type": "code",
   "execution_count": 49,
   "metadata": {},
   "outputs": [],
   "source": [
    "#df"
   ]
  },
  {
   "cell_type": "code",
   "execution_count": 19,
   "metadata": {},
   "outputs": [],
   "source": [
    "df2 = pd.read_csv('D://code//data//data_service_agent//20180317-S-TRIP.txt', encoding='utf-8', sep=',')"
   ]
  },
  {
   "cell_type": "code",
   "execution_count": 20,
   "metadata": {},
   "outputs": [
    {
     "data": {
      "text/plain": [
       "Index(['BMS_TX_BATCH', 'DIRECTION_ID', 'ENTRY_TIME', 'EXIT_TIME', 'STOP',\n",
       "       'STOP_DURATION', 'VEHICLE_ID', 'IDENTITY_ID', 'Gender',\n",
       "       'MVDIS_CATEGORY', 'VEHICLE_AGE', 'VEHICLE_BRAND', 'Holiday_cnt',\n",
       "       'WEEKDAY_CNT', 'TX_cnt', 'T_MILEAGE', 'O_CITY', 'O_TIME', 'O_MILEAGE',\n",
       "       'D_CITY', 'D_TIME', 'D_MILEAGE', 'TRIP_DURATION', 'TRIP_DISTANCE'],\n",
       "      dtype='object')"
      ]
     },
     "execution_count": 20,
     "metadata": {},
     "output_type": "execute_result"
    }
   ],
   "source": [
    "df2.columns"
   ]
  },
  {
   "cell_type": "code",
   "execution_count": 6,
   "metadata": {},
   "outputs": [],
   "source": [
    "df_trip = pd.read_csv('D://code//data//data_service_agent//TRIP_utf8.txt', encoding='utf-8', sep='\\t', low_memory=False)"
   ]
  },
  {
   "cell_type": "code",
   "execution_count": 50,
   "metadata": {},
   "outputs": [],
   "source": [
    "#df_trip"
   ]
  },
  {
   "cell_type": "markdown",
   "metadata": {},
   "source": [
    "#### merging data"
   ]
  },
  {
   "cell_type": "code",
   "execution_count": 25,
   "metadata": {},
   "outputs": [],
   "source": [
    "frame = [df, df_trip]\n",
    "df_all = pd.concat(frame)"
   ]
  },
  {
   "cell_type": "code",
   "execution_count": 27,
   "metadata": {
    "scrolled": true
   },
   "outputs": [
    {
     "data": {
      "text/plain": [
       "Index(['BMS_TX_BATCH', 'DIRECTION_ID', 'ENTRY_TIME', 'EXIT_TIME', 'STOP',\n",
       "       'STOP_DURATION', 'VEHICLE_ID', 'IDENTITY_ID', 'Gender',\n",
       "       'MVDIS_CATEGORY', 'VEHICLE_AGE', 'VEHICLE_BRAND', 'Holiday_cnt',\n",
       "       'WEEKDAY_CNT', 'TX_cnt', 'T_MILEAGE', 'O_CITY', 'O_TIME', 'O_MILEAGE',\n",
       "       'D_CITY', 'D_TIME', 'D_MILEAGE', 'TRIP_DURATION', 'TRIP_DISTANCE'],\n",
       "      dtype='object')"
      ]
     },
     "execution_count": 27,
     "metadata": {},
     "output_type": "execute_result"
    }
   ],
   "source": [
    "df_all.columns"
   ]
  },
  {
   "cell_type": "code",
   "execution_count": 48,
   "metadata": {},
   "outputs": [],
   "source": [
    "df_all.to_csv('D://code//data//data_service_agent//all_trip.csv', encoding='utf-8')"
   ]
  },
  {
   "cell_type": "code",
   "execution_count": 68,
   "metadata": {},
   "outputs": [
    {
     "data": {
      "text/plain": [
       "(684076, 24)"
      ]
     },
     "execution_count": 68,
     "metadata": {},
     "output_type": "execute_result"
    }
   ],
   "source": [
    "df_all.shape"
   ]
  },
  {
   "cell_type": "code",
   "execution_count": 83,
   "metadata": {},
   "outputs": [],
   "source": [
    "brand = []\n",
    "count = []\n",
    "\n",
    "for x in list(df_all.groupby('VEHICLE_BRAND')):\n",
    "    \n",
    "    brand.append(x[0])\n",
    "    count.append(x[1].shape[0])\n",
    "    \n",
    "    #print (x[0],x[1].shape[0])\n",
    "\n",
    "    \n"
   ]
  },
  {
   "cell_type": "code",
   "execution_count": 80,
   "metadata": {},
   "outputs": [],
   "source": [
    "idx=1\n",
    "#car_df = pd.DataFrame\n",
    "df_t_list.insert(loc=idx, column='count', value=count)"
   ]
  },
  {
   "cell_type": "code",
   "execution_count": 66,
   "metadata": {},
   "outputs": [],
   "source": [
    "#[ type(x[1]) for x in list(df_all.groupby('VEHICLE_BRAND'))]"
   ]
  },
  {
   "cell_type": "code",
   "execution_count": null,
   "metadata": {},
   "outputs": [],
   "source": [
    "with open('D://code//data//data_service_agent//car_type.txt', 'w') as f :\n",
    "    result = str(df_all.groupby('VEHICLE_BRAND').size())\n",
    "    f.write(result)"
   ]
  },
  {
   "cell_type": "code",
   "execution_count": 40,
   "metadata": {},
   "outputs": [],
   "source": [
    "with open('D://code//data//data_service_agent//car_type.txt', 'w') as f :\n",
    "    result = str([x[0] for x in list(df_all.groupby('VEHICLE_BRAND'))])\n",
    "    f.write(result)"
   ]
  },
  {
   "cell_type": "code",
   "execution_count": 43,
   "metadata": {},
   "outputs": [],
   "source": [
    "df_t = pd.read_csv('D://code//data//data_service_agent//car_type_sep.txt', sep=',', header=None)"
   ]
  },
  {
   "cell_type": "code",
   "execution_count": 52,
   "metadata": {},
   "outputs": [],
   "source": [
    "#df_t"
   ]
  },
  {
   "cell_type": "code",
   "execution_count": 45,
   "metadata": {},
   "outputs": [],
   "source": [
    "df_t_list = df_t.transpose()"
   ]
  },
  {
   "cell_type": "code",
   "execution_count": 84,
   "metadata": {
    "scrolled": true
   },
   "outputs": [],
   "source": [
    "#df_t_list"
   ]
  },
  {
   "cell_type": "code",
   "execution_count": 82,
   "metadata": {},
   "outputs": [],
   "source": [
    "df_t_list.to_csv('D://code//data//data_service_agent//car_type_list_with_cnt.csv', encoding='utf-8')"
   ]
  },
  {
   "cell_type": "code",
   "execution_count": null,
   "metadata": {},
   "outputs": [],
   "source": []
  }
 ],
 "metadata": {
  "kernelspec": {
   "display_name": "Python 3",
   "language": "python",
   "name": "python3"
  },
  "language_info": {
   "codemirror_mode": {
    "name": "ipython",
    "version": 3
   },
   "file_extension": ".py",
   "mimetype": "text/x-python",
   "name": "python",
   "nbconvert_exporter": "python",
   "pygments_lexer": "ipython3",
   "version": "3.6.4"
  }
 },
 "nbformat": 4,
 "nbformat_minor": 2
}
