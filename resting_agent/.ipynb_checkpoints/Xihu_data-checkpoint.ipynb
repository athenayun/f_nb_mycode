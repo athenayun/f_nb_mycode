{
 "cells": [
  {
   "cell_type": "code",
   "execution_count": 1,
   "metadata": {},
   "outputs": [],
   "source": [
    "import pandas as pd\n",
    "from datetime import datetime"
   ]
  },
  {
   "cell_type": "code",
   "execution_count": 2,
   "metadata": {},
   "outputs": [],
   "source": [
    "df = pd.read_csv('D://code//data//data_service_agent//Xihu-20180312-20180318.csv', low_memory=False)"
   ]
  },
  {
   "cell_type": "code",
   "execution_count": 51,
   "metadata": {},
   "outputs": [],
   "source": [
    "#df"
   ]
  },
  {
   "cell_type": "code",
   "execution_count": 4,
   "metadata": {},
   "outputs": [],
   "source": [
    "df['ENTRY_TIME'] = pd.to_datetime(df['ENTRY_TIME'],infer_datetime_format=True)"
   ]
  },
  {
   "cell_type": "code",
   "execution_count": 5,
   "metadata": {},
   "outputs": [],
   "source": [
    "df['EXIT_TIME'] = pd.to_datetime(df['EXIT_TIME'],infer_datetime_format=True)"
   ]
  },
  {
   "cell_type": "markdown",
   "metadata": {},
   "source": [
    "#### Start selecting !"
   ]
  },
  {
   "cell_type": "code",
   "execution_count": 28,
   "metadata": {},
   "outputs": [],
   "source": [
    "start_min = [00, 11, 21, 31, 41, 51]\n",
    "end_min = [10, 20, 30, 40, 50, 59]\n",
    "directions = ['N', 'S']\n",
    "days = [12, 13, 14, 15, 16, 17, 18]\n",
    "categories = [31, 32, 41, 42, 5]\n",
    "hours = [0, 1, 2, 3, 4, 5, 6, 7, 8, 9, 10, 11, 12, 13, 14, 15, 16, 17, 18, 19, 20, 21, 22, 23]\n",
    "small_car = [31, 32]\n",
    "big_car = [42, 5]\n",
    "big_41 = [41]\n",
    "n_cats = [small_car, big_41, big_car]\n",
    "\n",
    "weekdays = [12, 13, 14, 15, 16]\n",
    "weekends = [17, 18]"
   ]
  },
  {
   "cell_type": "code",
   "execution_count": 18,
   "metadata": {},
   "outputs": [],
   "source": [
    "#進入服務區(STOP = P)的每日平均車輛數(count)\n",
    "#### no directions\n",
    "result_dict = {}\n",
    "\n",
    "for day in days :\n",
    "    list_31_32 = []\n",
    "    #list_32 = []\n",
    "    list_41 = []\n",
    "    list_42_5 = []\n",
    "    #list_5 = []\n",
    "    for dire in directions :\n",
    "            \n",
    "        for n_cat in n_cats :\n",
    "            var = df[(df.ENTRY_TIME.dt.day == day) & (df.STOP == 'P') & (df.MVDIS_CATEGORY.isin(n_cat)) & (df.DIRECTION_ID == dire)].shape[0]\n",
    "\n",
    "\n",
    "            if n_cat == [31, 32] :\n",
    "                list_31_32.append(var)\n",
    "            elif n_cat == [41] :\n",
    "                list_41.append(var)\n",
    "            elif n_cat == [42, 5] :\n",
    "                list_42_5.append(var)\n",
    "\n",
    "        result_dict[\"totalweek_count_df__{0}_{1}\".format(day, dire)] = pd.DataFrame([list_31_32, list_41, list_42_5], index=['31+32', '41', '42+5'])"
   ]
  },
  {
   "cell_type": "code",
   "execution_count": 24,
   "metadata": {},
   "outputs": [],
   "source": [
    "#進入服務區(STOP = P)的每日平均停留時間(STOP_DURATION)\n",
    "#### no directions\n",
    "result_dict = {}\n",
    "\n",
    "for day in days :\n",
    "    list_31 = []\n",
    "    list_32 = []\n",
    "    list_41 = []\n",
    "    list_42 = []\n",
    "    list_5 = []\n",
    "    #for dire in directions : & (df.DIRECTION_ID == dire)\n",
    "            \n",
    "    for category in categories :\n",
    "        var = df[(df.ENTRY_TIME.dt.day == day) & (df.STOP == 'P') & (df.MVDIS_CATEGORY == category) ]['STOP_DURATION'].mean()\n",
    "\n",
    "\n",
    "        if category == 31 :\n",
    "            list_31.append(var)\n",
    "        elif category == 32 :\n",
    "            list_32.append(var)\n",
    "        elif category == 41 :\n",
    "            list_41.append(var)\n",
    "        elif category == 42 :\n",
    "            list_42.append(var)\n",
    "        elif category == 5 :\n",
    "            list_5.append(var)\n",
    "\n",
    "    result_dict[\"totalweek_count_df__{0}\".format(day)] = pd.DataFrame([list_31, list_32, list_41, list_42, list_5], index=categories)"
   ]
  },
  {
   "cell_type": "code",
   "execution_count": 37,
   "metadata": {},
   "outputs": [
    {
     "name": "stdout",
     "output_type": "stream",
     "text": [
      "24.63782281205165\n",
      "19.997619047619047\n",
      "23.362586605080832\n",
      "=========== 18 ============= N\n",
      "24.628105442821923\n",
      "21.642666666666667\n",
      "25.472949389179757\n",
      "=========== 18 ============= S\n"
     ]
    }
   ],
   "source": [
    "for dire in directions :\n",
    "        \n",
    "        for n_cat in n_cats :\n",
    "            print(df[(df.ENTRY_TIME.dt.day.isin(weekends)) & (df.STOP == 'P') & (df.MVDIS_CATEGORY.isin(n_cat)) &(df.DIRECTION_ID == dire)]['STOP_DURATION'].mean())\n",
    "        print('===========', day, '=============', dire)"
   ]
  },
  {
   "cell_type": "code",
   "execution_count": 35,
   "metadata": {
    "scrolled": true
   },
   "outputs": [
    {
     "name": "stdout",
     "output_type": "stream",
     "text": [
      "23.49370197258972\n",
      "19.430875576036865\n",
      "24.581524926686217\n",
      "=========== 12 ============= N\n",
      "23.998063826946186\n",
      "22.15801886792453\n",
      "27.77227440933675\n",
      "=========== 12 ============= S\n",
      "23.49370197258972\n",
      "19.430875576036865\n",
      "24.581524926686217\n",
      "=========== 13 ============= N\n",
      "23.998063826946186\n",
      "22.15801886792453\n",
      "27.77227440933675\n",
      "=========== 13 ============= S\n",
      "23.49370197258972\n",
      "19.430875576036865\n",
      "24.581524926686217\n",
      "=========== 14 ============= N\n",
      "23.998063826946186\n",
      "22.15801886792453\n",
      "27.77227440933675\n",
      "=========== 14 ============= S\n",
      "23.49370197258972\n",
      "19.430875576036865\n",
      "24.581524926686217\n",
      "=========== 15 ============= N\n",
      "23.998063826946186\n",
      "22.15801886792453\n",
      "27.77227440933675\n",
      "=========== 15 ============= S\n",
      "23.49370197258972\n",
      "19.430875576036865\n",
      "24.581524926686217\n",
      "=========== 16 ============= N\n",
      "23.998063826946186\n",
      "22.15801886792453\n",
      "27.77227440933675\n",
      "=========== 16 ============= S\n",
      "23.49370197258972\n",
      "19.430875576036865\n",
      "24.581524926686217\n",
      "=========== 17 ============= N\n",
      "23.998063826946186\n",
      "22.15801886792453\n",
      "27.77227440933675\n",
      "=========== 17 ============= S\n",
      "23.49370197258972\n",
      "19.430875576036865\n",
      "24.581524926686217\n",
      "=========== 18 ============= N\n",
      "23.998063826946186\n",
      "22.15801886792453\n",
      "27.77227440933675\n",
      "=========== 18 ============= S\n"
     ]
    }
   ],
   "source": [
    "for day in days :\n",
    "    for dire in directions :\n",
    "        \n",
    "        for n_cat in n_cats :\n",
    "            print(df[(df.ENTRY_TIME.dt.day.isin(weekdays)) & (df.STOP == 'P') & (df.MVDIS_CATEGORY.isin(n_cat)) &(df.DIRECTION_ID == dire)]['STOP_DURATION'].mean())\n",
    "        print('===========', day, '=============', dire)"
   ]
  },
  {
   "cell_type": "code",
   "execution_count": 25,
   "metadata": {},
   "outputs": [
    {
     "data": {
      "text/html": [
       "<div>\n",
       "<style scoped>\n",
       "    .dataframe tbody tr th:only-of-type {\n",
       "        vertical-align: middle;\n",
       "    }\n",
       "\n",
       "    .dataframe tbody tr th {\n",
       "        vertical-align: top;\n",
       "    }\n",
       "\n",
       "    .dataframe thead th {\n",
       "        text-align: right;\n",
       "    }\n",
       "</style>\n",
       "<table border=\"1\" class=\"dataframe\">\n",
       "  <thead>\n",
       "    <tr style=\"text-align: right;\">\n",
       "      <th></th>\n",
       "      <th>0</th>\n",
       "    </tr>\n",
       "  </thead>\n",
       "  <tbody>\n",
       "    <tr>\n",
       "      <th>31</th>\n",
       "      <td>23.558845</td>\n",
       "    </tr>\n",
       "    <tr>\n",
       "      <th>32</th>\n",
       "      <td>23.694051</td>\n",
       "    </tr>\n",
       "    <tr>\n",
       "      <th>41</th>\n",
       "      <td>20.250000</td>\n",
       "    </tr>\n",
       "    <tr>\n",
       "      <th>42</th>\n",
       "      <td>27.587591</td>\n",
       "    </tr>\n",
       "    <tr>\n",
       "      <th>5</th>\n",
       "      <td>25.180672</td>\n",
       "    </tr>\n",
       "  </tbody>\n",
       "</table>\n",
       "</div>"
      ],
      "text/plain": [
       "            0\n",
       "31  23.558845\n",
       "32  23.694051\n",
       "41  20.250000\n",
       "42  27.587591\n",
       "5   25.180672"
      ]
     },
     "execution_count": 25,
     "metadata": {},
     "output_type": "execute_result"
    }
   ],
   "source": [
    "result_dict[\"totalweek_count_df__12\"]"
   ]
  },
  {
   "cell_type": "code",
   "execution_count": 27,
   "metadata": {
    "scrolled": true
   },
   "outputs": [],
   "source": [
    "for day in days :\n",
    "    result_dict[\"totalweek_count_df__{0}\".format(day)]\n",
    "    #print(day, i)"
   ]
  },
  {
   "cell_type": "code",
   "execution_count": 38,
   "metadata": {},
   "outputs": [],
   "source": [
    "#進服務區與沒進服務區佔主線比例 by 每日\n",
    "days = [12, 13, 14, 15, 16, 17, 18]\n",
    "hours = [0, 1, 2, 3, 4, 5, 6, 7, 8, 9, 10, 11, 12, 13, 14, 15, 16, 17, 18, 19, 20, 21, 22, 23]\n",
    "\n",
    "for day in days:\n",
    "    total_list = []\n",
    "    for hour in hours :\n",
    "        cnt_var = df[(df.ENTRY_TIME.dt.day == day)&(df.ENTRY_TIME.dt.hour == hour)].shape[0]\n",
    "        in_var = df[(df.STOP == 'P')&(df.ENTRY_TIME.dt.day == day)&(df.ENTRY_TIME.dt.hour == hour)].shape[0]\n",
    "        out_var = df[(df.STOP == 'T')&(df.ENTRY_TIME.dt.day == day)&(df.ENTRY_TIME.dt.hour == hour)].shape[0]\n",
    "        per_var = float((in_var/cnt_var)*100.0)\n",
    "        hr_list = [in_var, out_var, cnt_var, per_var]\n",
    "        total_list.append(hr_list)\n",
    "    result_dict[\"hour_countIO_df__{0}\".format(day)] = pd.DataFrame(total_list, index=hours, columns=['in', 'not_in', 'total', 'percentage'])              "
   ]
  },
  {
   "cell_type": "code",
   "execution_count": 39,
   "metadata": {},
   "outputs": [],
   "source": [
    "for day in days :\n",
    "    result_dict[\"hour_countIO_df__{0}\".format(day)].to_csv('D://code//data//data_service_agent//result_set//Xihu//IO_percentage_day_{0}.csv'.format(day), na_rep='0')\n",
    "\n",
    "#result_dict['hour_count_df__12']"
   ]
  },
  {
   "cell_type": "code",
   "execution_count": 40,
   "metadata": {},
   "outputs": [],
   "source": [
    "start_min = [00, 11, 21, 31, 41, 51]\n",
    "end_min = [10, 20, 30, 40, 50, 59]\n",
    "col_min = []\n",
    "for i in hours:\n",
    "    for j in enumerate(start_min):\n",
    "        string = \"{0}:{1}-{0}:{2}\".format(i, j[1], end_min[j[0]])\n",
    "        col_min.append(string)\n",
    "        #print(string)"
   ]
  },
  {
   "cell_type": "code",
   "execution_count": 50,
   "metadata": {},
   "outputs": [],
   "source": [
    "days = [12, 13, 14, 15, 16, 17, 18]\n",
    "categories = [31, 32, 41, 42, 5]\n",
    "hours = [0, 1, 2, 3, 4, 5, 6, 7, 8, 9, 10, 11, 12, 13, 14, 15, 16, 17, 18, 19, 20, 21, 22, 23]\n",
    "start_min = [0, 11, 21, 31, 41, 51]\n",
    "end_min = [10, 20, 30, 40, 50, 59]\n",
    "directions = ['N', 'S']\n",
    "\n",
    "result_dict = {}\n",
    "\n",
    "for day in days :\n",
    "    \n",
    "    \n",
    "    for dire in directions:\n",
    "        list_31_32 = []\n",
    "        #list_32 = []\n",
    "        list_41 = []\n",
    "        list_42_5 = []\n",
    "        #list_5 = []\n",
    "\n",
    "        for n_cat in n_cats :\n",
    "            for hour in hours :\n",
    "                for num in enumerate(start_min):\n",
    "                    var = df[(df.ENTRY_TIME.dt.day == 14) & (df.STOP == 'P') &(df.DIRECTION_ID == dire)& (df.MVDIS_CATEGORY.isin(n_cat)) & (df.ENTRY_TIME.dt.hour == hour) & (df.ENTRY_TIME.dt.minute >= num[1]) & (df.ENTRY_TIME.dt.minute <= end_min[num[0]])].shape[0]\n",
    "                    string = \"{0}:{1}-{0}:{2}\".format(hour, num[1], end_min[num[0]])\n",
    "                    if n_cat == [31, 32] :\n",
    "                        list_31_32.append(var)\n",
    "                    elif n_cat == [41] :\n",
    "                        list_41.append(var)\n",
    "                    elif n_cat == [42, 5] :\n",
    "                        list_42_5.append(var)\n",
    "\n",
    "\n",
    "\n",
    "        result_dict[\"min_cnt_df_{0}__{1}\".format(day, dire)] = pd.DataFrame([list_31_32, list_41, list_42_5], index=['31+32', '41', '42+5'], columns=col_min).transpose()                \n"
   ]
  },
  {
   "cell_type": "code",
   "execution_count": 49,
   "metadata": {},
   "outputs": [
    {
     "data": {
      "text/plain": [
       "dict_keys(['min_stD_df_12__N', 'min_stD_df_12__S', 'min_stD_df_13__N', 'min_stD_df_13__S', 'min_stD_df_14__N', 'min_stD_df_14__S', 'min_stD_df_15__N', 'min_stD_df_15__S', 'min_stD_df_16__N', 'min_stD_df_16__S', 'min_stD_df_17__N', 'min_stD_df_17__S', 'min_stD_df_18__N', 'min_stD_df_18__S'])"
      ]
     },
     "execution_count": 49,
     "metadata": {},
     "output_type": "execute_result"
    }
   ],
   "source": [
    "result_dict.keys()"
   ]
  },
  {
   "cell_type": "code",
   "execution_count": 47,
   "metadata": {},
   "outputs": [],
   "source": [
    "for day in days :\n",
    "    for dire in directions:\n",
    "        result_dict[\"min_stD_df_{0}__{1}\".format(day, dire)].to_csv('D://code//data//data_service_agent//result_set//Xihu//car_stDuration_byMIN_day_{1}_{0}.csv'.format(day, dire), na_rep='0')\n",
    "\n",
    "#result_dict['hour_count_df__12']"
   ]
  },
  {
   "cell_type": "code",
   "execution_count": null,
   "metadata": {},
   "outputs": [],
   "source": []
  }
 ],
 "metadata": {
  "kernelspec": {
   "display_name": "Python 3",
   "language": "python",
   "name": "python3"
  },
  "language_info": {
   "codemirror_mode": {
    "name": "ipython",
    "version": 3
   },
   "file_extension": ".py",
   "mimetype": "text/x-python",
   "name": "python",
   "nbconvert_exporter": "python",
   "pygments_lexer": "ipython3",
   "version": "3.6.4"
  }
 },
 "nbformat": 4,
 "nbformat_minor": 2
}
