{
 "cells": [
  {
   "cell_type": "code",
   "execution_count": 1,
   "metadata": {},
   "outputs": [
    {
     "name": "stdout",
     "output_type": "stream",
     "text": [
      "Collecting tensorflow\n",
      "  Using cached tensorflow-1.4.0-cp36-cp36m-win_amd64.whl\n",
      "Requirement already satisfied: wheel>=0.26 in c:\\users\\alee2\\appdata\\local\\continuum\\anaconda3\\envs\\athena_practice\\lib\\site-packages (from tensorflow)\n",
      "Collecting tensorflow-tensorboard<0.5.0,>=0.4.0rc1 (from tensorflow)\n",
      "  Downloading tensorflow_tensorboard-0.4.0-py3-none-any.whl (1.7MB)\n",
      "Collecting protobuf>=3.3.0 (from tensorflow)\n",
      "  Using cached protobuf-3.5.1-py2.py3-none-any.whl\n",
      "Collecting numpy>=1.12.1 (from tensorflow)\n",
      "  Downloading numpy-1.14.0-cp36-none-win_amd64.whl (13.4MB)\n",
      "Collecting enum34>=1.1.6 (from tensorflow)\n",
      "  Using cached enum34-1.1.6-py3-none-any.whl\n",
      "Requirement already satisfied: six>=1.10.0 in c:\\users\\alee2\\appdata\\local\\continuum\\anaconda3\\envs\\athena_practice\\lib\\site-packages (from tensorflow)\n",
      "Collecting bleach==1.5.0 (from tensorflow-tensorboard<0.5.0,>=0.4.0rc1->tensorflow)\n",
      "  Using cached bleach-1.5.0-py2.py3-none-any.whl\n",
      "Collecting markdown>=2.6.8 (from tensorflow-tensorboard<0.5.0,>=0.4.0rc1->tensorflow)\n",
      "  Using cached Markdown-2.6.11-py2.py3-none-any.whl\n",
      "Collecting werkzeug>=0.11.10 (from tensorflow-tensorboard<0.5.0,>=0.4.0rc1->tensorflow)\n",
      "  Downloading Werkzeug-0.14.1-py2.py3-none-any.whl (322kB)\n",
      "Collecting html5lib==0.9999999 (from tensorflow-tensorboard<0.5.0,>=0.4.0rc1->tensorflow)\n",
      "Requirement already satisfied: setuptools in c:\\users\\alee2\\appdata\\local\\continuum\\anaconda3\\envs\\athena_practice\\lib\\site-packages (from protobuf>=3.3.0->tensorflow)\n",
      "Installing collected packages: html5lib, bleach, numpy, markdown, werkzeug, protobuf, tensorflow-tensorboard, enum34, tensorflow\n",
      "  Found existing installation: html5lib 1.0.1\n",
      "    Uninstalling html5lib-1.0.1:\n",
      "      Successfully uninstalled html5lib-1.0.1\n",
      "  Found existing installation: bleach 2.1.2\n",
      "    Uninstalling bleach-2.1.2:\n",
      "      Successfully uninstalled bleach-2.1.2\n",
      "Successfully installed bleach-1.5.0 enum34-1.1.6 html5lib-0.9999999 markdown-2.6.11 numpy-1.14.0 protobuf-3.5.1 tensorflow-1.4.0 tensorflow-tensorboard-0.4.0 werkzeug-0.14.1\n"
     ]
    }
   ],
   "source": [
    "!pip install tensorflow"
   ]
  },
  {
   "cell_type": "code",
   "execution_count": 1,
   "metadata": {},
   "outputs": [
    {
     "name": "stdout",
     "output_type": "stream",
     "text": [
      "Collecting pandas\n",
      "  Downloading pandas-0.22.0-cp36-cp36m-win_amd64.whl (9.1MB)\n",
      "Collecting pytz>=2011k (from pandas)\n",
      "  Downloading pytz-2017.3-py2.py3-none-any.whl (511kB)\n",
      "Requirement already satisfied: python-dateutil>=2 in c:\\users\\alee2\\appdata\\local\\continuum\\anaconda3\\envs\\athena_practice\\lib\\site-packages (from pandas)\n",
      "Requirement already satisfied: numpy>=1.9.0 in c:\\users\\alee2\\appdata\\local\\continuum\\anaconda3\\envs\\athena_practice\\lib\\site-packages (from pandas)\n",
      "Requirement already satisfied: six>=1.5 in c:\\users\\alee2\\appdata\\local\\continuum\\anaconda3\\envs\\athena_practice\\lib\\site-packages (from python-dateutil>=2->pandas)\n",
      "Installing collected packages: pytz, pandas\n",
      "Successfully installed pandas-0.22.0 pytz-2017.3\n"
     ]
    }
   ],
   "source": [
    "!pip install pandas"
   ]
  },
  {
   "cell_type": "code",
   "execution_count": 1,
   "metadata": {},
   "outputs": [
    {
     "name": "stdout",
     "output_type": "stream",
     "text": [
      "Requirement already satisfied: matplotlib in c:\\users\\alee2\\appdata\\local\\continuum\\anaconda3\\envs\\athena_practice\\lib\\site-packages\n",
      "Requirement already satisfied: numpy in c:\\users\\alee2\\appdata\\local\\continuum\\anaconda3\\envs\\athena_practice\\lib\\site-packages\n",
      "Collecting scipy\n",
      "  Downloading scipy-1.0.0-cp36-none-win_amd64.whl (30.8MB)\n",
      "Collecting scikit-learn\n",
      "  Downloading scikit_learn-0.19.1-cp36-cp36m-win_amd64.whl (4.3MB)\n",
      "Requirement already satisfied: six>=1.10 in c:\\users\\alee2\\appdata\\local\\continuum\\anaconda3\\envs\\athena_practice\\lib\\site-packages (from matplotlib)\n",
      "Requirement already satisfied: cycler>=0.10 in c:\\users\\alee2\\appdata\\local\\continuum\\anaconda3\\envs\\athena_practice\\lib\\site-packages (from matplotlib)\n",
      "Requirement already satisfied: pytz in c:\\users\\alee2\\appdata\\local\\continuum\\anaconda3\\envs\\athena_practice\\lib\\site-packages (from matplotlib)\n",
      "Requirement already satisfied: pyparsing!=2.0.4,!=2.1.2,!=2.1.6,>=2.0.1 in c:\\users\\alee2\\appdata\\local\\continuum\\anaconda3\\envs\\athena_practice\\lib\\site-packages (from matplotlib)\n",
      "Requirement already satisfied: python-dateutil>=2.1 in c:\\users\\alee2\\appdata\\local\\continuum\\anaconda3\\envs\\athena_practice\\lib\\site-packages (from matplotlib)\n",
      "Installing collected packages: scipy, scikit-learn\n",
      "Successfully installed scikit-learn-0.19.1 scipy-1.0.0\n"
     ]
    }
   ],
   "source": [
    "!pip install matplotlib numpy scipy scikit-learn"
   ]
  },
  {
   "cell_type": "code",
   "execution_count": null,
   "metadata": {},
   "outputs": [],
   "source": []
  }
 ],
 "metadata": {
  "kernelspec": {
   "display_name": "Python 3",
   "language": "python",
   "name": "python3"
  },
  "language_info": {
   "codemirror_mode": {
    "name": "ipython",
    "version": 3
   },
   "file_extension": ".py",
   "mimetype": "text/x-python",
   "name": "python",
   "nbconvert_exporter": "python",
   "pygments_lexer": "ipython3",
   "version": "3.6.4"
  }
 },
 "nbformat": 4,
 "nbformat_minor": 2
}
