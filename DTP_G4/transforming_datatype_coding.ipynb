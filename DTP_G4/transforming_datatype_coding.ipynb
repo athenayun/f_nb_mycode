{
 "cells": [
  {
   "cell_type": "code",
   "execution_count": 1,
   "metadata": {},
   "outputs": [],
   "source": [
    "import pandas as pd\n",
    "import matplotlib.pyplot as plt\n",
    "import numpy as np"
   ]
  },
  {
   "cell_type": "code",
   "execution_count": 2,
   "metadata": {},
   "outputs": [],
   "source": [
    "data_df = pd.read_csv('D://code//DTP_G4//data//CarBrand_data//MITSUBISHI.csv', na_filter=False, encoding = 'utf-8')"
   ]
  },
  {
   "cell_type": "code",
   "execution_count": 4,
   "metadata": {
    "scrolled": true
   },
   "outputs": [],
   "source": [
    "#data_df"
   ]
  },
  {
   "cell_type": "code",
   "execution_count": 51,
   "metadata": {},
   "outputs": [],
   "source": [
    "#data_df = data_df.iloc[:, [0, 1, 2, 3, 4, 5, 6, 7, 8, 9, 10, 11, 12, 13, 14, 15, 16, 17, 18]]\n",
    "data_df = data_df.iloc[:, [0, 1, 2, 3, 4, 5, 6, 7, 8, 9, 10, 11, 12, 13, 14, 15, 16, 17, 18, 19, 20, 21, 22]]"
   ]
  },
  {
   "cell_type": "code",
   "execution_count": 3,
   "metadata": {},
   "outputs": [
    {
     "name": "stdout",
     "output_type": "stream",
     "text": [
      "<class 'pandas.core.frame.DataFrame'>\n",
      "RangeIndex: 716500 entries, 0 to 716499\n",
      "Data columns (total 6 columns):\n",
      "VEHICLE_ID              716500 non-null int64\n",
      "Brand                   716500 non-null object\n",
      "MVDIS_BRAND             716500 non-null object\n",
      "MVDIS_MANUFACTURE_YM    716500 non-null object\n",
      "Manu_YYYY               716500 non-null object\n",
      "Manu_MM                 716500 non-null object\n",
      "dtypes: int64(1), object(5)\n",
      "memory usage: 32.8+ MB\n"
     ]
    }
   ],
   "source": [
    "data_df.info()"
   ]
  },
  {
   "cell_type": "code",
   "execution_count": 1,
   "metadata": {},
   "outputs": [],
   "source": [
    "#data_df.head()"
   ]
  },
  {
   "cell_type": "code",
   "execution_count": 6,
   "metadata": {},
   "outputs": [],
   "source": []
  },
  {
   "cell_type": "markdown",
   "metadata": {},
   "source": [
    "### write into csv file , cause i read from a txt file..."
   ]
  },
  {
   "cell_type": "code",
   "execution_count": 6,
   "metadata": {},
   "outputs": [],
   "source": [
    "#columns = ['VEHICLE_ID', '收費車種', '身分別', '車輛廠牌', '監理車種', '車輛出廠年月', '車主性別', '車籍縣市', '總里程-2017', '通行天數-2017', '平均通行距離', '出帳次數', '平日通行百分比', '假日通行百分比', '北區通行比例', '中區通行比例', '南區通行比例', '白天通行比例', '夜間通行比例']\n",
    "columns = ['VEHICLE_ID', 'DetectedCarCategory', 'IdentityType', 'CarBrand', 'RegisteredCarCategory', 'CarFactorized_YM', 'OwnerGender', 'CarCounty', 'TotalKM2017', 'TotalDay2017', 'AverageDistance', 'DelayedPayBillTimes', 'WeekdayRatio', 'WeekendRatio', 'NorthRatio', 'MidRatio', 'SouthRatio', 'DayPassingRatio', 'NightPassingRatio', 'AverageSpeed', 'OverSpeedRatio', 'bigger350KM', 'ACL_days', 'CarBrand_Ultimate']"
   ]
  },
  {
   "cell_type": "code",
   "execution_count": 7,
   "metadata": {},
   "outputs": [],
   "source": [
    "data_df.to_csv('D://code//DTP_G4//data//altered_g4data_2_1.csv',columns = columns , index=False , header = True,sep=',',encoding='utf-8')"
   ]
  },
  {
   "cell_type": "markdown",
   "metadata": {},
   "source": [
    "## Visualization"
   ]
  },
  {
   "cell_type": "markdown",
   "metadata": {},
   "source": [
    "### using bar diagram"
   ]
  },
  {
   "cell_type": "code",
   "execution_count": 2,
   "metadata": {},
   "outputs": [],
   "source": [
    "#print(data_df.columns)"
   ]
  },
  {
   "cell_type": "code",
   "execution_count": null,
   "metadata": {},
   "outputs": [],
   "source": []
  }
 ],
 "metadata": {
  "kernelspec": {
   "display_name": "Python 3",
   "language": "python",
   "name": "python3"
  },
  "language_info": {
   "codemirror_mode": {
    "name": "ipython",
    "version": 3
   },
   "file_extension": ".py",
   "mimetype": "text/x-python",
   "name": "python",
   "nbconvert_exporter": "python",
   "pygments_lexer": "ipython3",
   "version": "3.6.4"
  }
 },
 "nbformat": 4,
 "nbformat_minor": 2
}
